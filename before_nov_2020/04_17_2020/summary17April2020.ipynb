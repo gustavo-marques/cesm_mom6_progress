{
 "cells": [
  {
   "cell_type": "markdown",
   "metadata": {
    "slideshow": {
     "slide_type": "fragment"
    }
   },
   "source": [
    "# Summary for the week startig on April 13th 2020 \n",
    "\n",
    "Gustavo Marques (gmarques@ucar.edu)\n",
    "\n",
    "Last update: 04/17/2020"
   ]
  },
  {
   "cell_type": "markdown",
   "metadata": {
    "slideshow": {
     "slide_type": "slide"
    },
    "toc-hr-collapsed": false
   },
   "source": [
    "## Week achievements\n",
    "\n",
    "### Control Biharmonic coeff. via grid Reynolds number\n",
    "\n",
    "We have implemented the option to specify the biharmonic horizontal viscosity coefficient (AH)\n",
    "via a user-specified (Biharmonic) grid Reynolds number (input parameter RE_AH).\n",
    "If RE_AH is nonzero, AH is scaled so that the biharmonic Reynolds number is equal to this.\n",
    "RE_AH is defined as:\n",
    "\n",
    "$RE\\_AH = \\frac{U \\Delta x3}{AH}$\n",
    "\n",
    "where $\\Delta x3$ is the harmonic mean of the squares of the grid^(3/2).\n",
    "\n",
    "A set of experiments convering a rage of RE_AH values can be found at:\n",
    "```\n",
    "/glade/scratch/gmarques/g.c2b6.GJRA.TL319_t061.long_JRA_mct.057/run/RE_AH*\n",
    "```\n",
    "\n",
    "Cases with large RE_AH values (e.g. 100) were too noisy. The smallest value tested was RE_AH = 5. In this case, grid-scale noise is significantly reduced (although it still occurs, specially in high latitudes). However, AH is too large to sustain a good EUC.\n",
    "\n",
    "### Biharmonic controlled via Leith nonlinear eddy viscosity\n",
    "\n",
    "This was somthing that Scott had aleady coded in MOM6. There was a mistake in the code which is not corrected. Three experiments were performed to check how different values of ```LEITH_BI_CONST``` affect the solution. LEITH_BI_CONST = 128.0 (G58) seems the best. \n"
   ]
  },
  {
   "cell_type": "markdown",
   "metadata": {},
   "source": [
    "## What should be the next steps?\n",
    "\n",
    "\n",
    "* Revisit grid/topo generation, including vertical grid (the current one is no smooth)\n",
    "This is not the top-priority for now. But since create a new vertical grid is straight forward I wi\n",
    "\n",
    "* Explore Hycom-like hybrid coordinate. Still not able to run with coord. for long. See \n",
    "```g.c2b6.GJRA.TL319_t061.long_JRA_mct.056```\n",
    "\n",
    "* Restrict widths of specific channels (e.g., Gibraltar)\n",
    "\n",
    "* Explore mixing in the bottom boundary (parameter ```BBL_EFFIC```)\n",
    "\n",
    "* Enable the LBD code to work on the BBL\n"
   ]
  },
  {
   "cell_type": "markdown",
   "metadata": {},
   "source": [
    "### TODO for next week\n",
    "\n",
    "* G59, stronger biharmonic (LEITH_BI_CONST=256?)\n",
    "* Turn off BBL_EFF\n",
    "* Hybrid run without using wave_speed?\n",
    "* diagnostics: tidal diffusivity, $\\Delta$HT (Bill's suggestion)"
   ]
  },
  {
   "cell_type": "code",
   "execution_count": null,
   "metadata": {},
   "outputs": [],
   "source": []
  }
 ],
 "metadata": {
  "kernelspec": {
   "display_name": "analysis",
   "language": "python",
   "name": "analysis"
  },
  "language_info": {
   "codemirror_mode": {
    "name": "ipython",
    "version": 3
   },
   "file_extension": ".py",
   "mimetype": "text/x-python",
   "name": "python",
   "nbconvert_exporter": "python",
   "pygments_lexer": "ipython3",
   "version": "3.7.3"
  }
 },
 "nbformat": 4,
 "nbformat_minor": 4
}
