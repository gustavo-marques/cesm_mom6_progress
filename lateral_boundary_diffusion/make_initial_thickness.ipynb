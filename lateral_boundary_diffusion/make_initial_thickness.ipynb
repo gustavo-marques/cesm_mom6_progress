{
 "cells": [
  {
   "cell_type": "code",
   "execution_count": 8,
   "metadata": {},
   "outputs": [],
   "source": [
    "import numpy as np\n",
    "import xarray as xr\n",
    "import matplotlib.pyplot as plt"
   ]
  },
  {
   "cell_type": "code",
   "execution_count": 9,
   "metadata": {},
   "outputs": [],
   "source": [
    "max_depth = 500.\n",
    "nk = 50\n",
    "h = np.ones((1,nk,2,2)) * max_depth/nk"
   ]
  },
  {
   "cell_type": "code",
   "execution_count": 10,
   "metadata": {},
   "outputs": [
    {
     "data": {
      "text/plain": [
       "(1, 50, 2, 2)"
      ]
     },
     "execution_count": 10,
     "metadata": {},
     "output_type": "execute_result"
    }
   ],
   "source": [
    "h.shape"
   ]
  },
  {
   "cell_type": "code",
   "execution_count": 11,
   "metadata": {},
   "outputs": [],
   "source": [
    "h[0,10,:,0] = 15.; h[0,10,:,1] = 5.\n",
    "h[0,11,:,0] = 5. ; h[0,11,:,1] = 15."
   ]
  },
  {
   "cell_type": "code",
   "execution_count": 12,
   "metadata": {},
   "outputs": [
    {
     "name": "stdout",
     "output_type": "stream",
     "text": [
      "2020-12-12 13:23:11.145369\n"
     ]
    },
    {
     "data": {
      "text/html": [
       "<pre>&lt;xarray.Dataset&gt;\n",
       "Dimensions:  (Time: 1, X: 2, Y: 2, layers: 50)\n",
       "Coordinates:\n",
       "  * Time     (Time) float64 0.0\n",
       "Dimensions without coordinates: X, Y, layers\n",
       "Data variables:\n",
       "    h        (Time, layers, Y, X) float64 10.0 10.0 10.0 10.0 ... 10.0 10.0 10.0\n",
       "Attributes:\n",
       "    history:  Created 2020-12-12 13:23:11.145369 with make_initial_thickness....</pre>"
      ],
      "text/plain": [
       "<xarray.Dataset>\n",
       "Dimensions:  (Time: 1, X: 2, Y: 2, layers: 50)\n",
       "Coordinates:\n",
       "  * Time     (Time) float64 0.0\n",
       "Dimensions without coordinates: X, Y, layers\n",
       "Data variables:\n",
       "    h        (Time, layers, Y, X) float64 10.0 10.0 10.0 10.0 ... 10.0 10.0 10.0\n",
       "Attributes:\n",
       "    history:  Created 2020-12-12 13:23:11.145369 with make_initial_thickness...."
      ]
     },
     "execution_count": 12,
     "metadata": {},
     "output_type": "execute_result"
    }
   ],
   "source": [
    "from datetime import datetime \n",
    "now=datetime.now()\n",
    "print(now)\n",
    "\n",
    "path_out = '/glade/work/gmarques/Projects/LBD/INPUT/'\n",
    "\n",
    "h_da = xr.DataArray(h,\n",
    "                     dims=[\"Time\",\"layers\",\"Y\",\"X\"],\n",
    "                     attrs={\"units\":\"m\",\"long_name\":\"layer thickness\"})\n",
    "\n",
    "time_da = xr.DataArray([0.],\n",
    "                     dims=[\"Time\"],\n",
    "                     attrs={\"units\":\"days\",\"long_name\":\"Time\",\"cartesian_axis\":\"T\"})\n",
    "  \n",
    "\n",
    "ds_out = xr.Dataset()\n",
    "ds_out['h'] = h_da\n",
    "ds_out['Time'] = time_da\n",
    "\n",
    "ds_out.attrs={'history':'Created '+str(now)+' with make_initial_thickness.ipynb'}\n",
    "\n",
    "ds_out"
   ]
  },
  {
   "cell_type": "code",
   "execution_count": 13,
   "metadata": {},
   "outputs": [],
   "source": [
    "ds_out.to_netcdf(path_out+'h_50_500m.nc')"
   ]
  },
  {
   "cell_type": "code",
   "execution_count": null,
   "metadata": {},
   "outputs": [],
   "source": []
  }
 ],
 "metadata": {
  "kernelspec": {
   "display_name": "analysis",
   "language": "python",
   "name": "analysis"
  },
  "language_info": {
   "codemirror_mode": {
    "name": "ipython",
    "version": 3
   },
   "file_extension": ".py",
   "mimetype": "text/x-python",
   "name": "python",
   "nbconvert_exporter": "python",
   "pygments_lexer": "ipython3",
   "version": "3.7.3"
  }
 },
 "nbformat": 4,
 "nbformat_minor": 4
}
