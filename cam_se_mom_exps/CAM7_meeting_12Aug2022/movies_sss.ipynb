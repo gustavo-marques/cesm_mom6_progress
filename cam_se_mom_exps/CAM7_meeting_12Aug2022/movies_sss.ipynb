{
 "cells": [
  {
   "cell_type": "markdown",
   "id": "bd810f6a-5241-47be-968e-41490b252dc3",
   "metadata": {},
   "source": [
    "### SSS movies "
   ]
  },
  {
   "cell_type": "code",
   "execution_count": 8,
   "id": "a4e38aaf-577a-445e-939d-2163c706ae32",
   "metadata": {},
   "outputs": [],
   "source": [
    "# mom6_tools\n",
    "from mom6_tools.DiagsCase import DiagsCase\n",
    "from mom6_tools.MOM6grid import MOM6grid\n",
    "from mom6_tools.m6toolbox import genBasinMasks\n",
    "from mom6_tools.m6plot import myStats, annotateStats\n",
    "import cmocean as cm\n",
    "import cartopy.crs as ccrs\n",
    "import cartopy.feature\n",
    "import matplotlib.path as mpath\n",
    "from matplotlib.colors import BoundaryNorm\n",
    "from matplotlib.ticker import MaxNLocator\n",
    "import xarray as xr\n",
    "import numpy as np\n",
    "from datetime import date\n",
    "import matplotlib.pyplot as plt\n",
    "from xmovie import Movie\n",
    "import warnings, os, yaml\n",
    "warnings.filterwarnings(\"ignore\")"
   ]
  },
  {
   "cell_type": "code",
   "execution_count": 2,
   "id": "fc91b750-16e1-4c52-86b4-8c8f1065ade2",
   "metadata": {},
   "outputs": [],
   "source": [
    "%%capture \n",
    "# comment above line to see details about the run(s) displayed\n",
    "from misc import *\n",
    "%matplotlib inline"
   ]
  },
  {
   "cell_type": "code",
   "execution_count": 3,
   "id": "ac56e447-d429-415b-97bb-3f657de99881",
   "metadata": {},
   "outputs": [
    {
     "data": {
      "text/html": [
       "<div>\n",
       "    <div style=\"width: 24px; height: 24px; background-color: #e1e1e1; border: 3px solid #9D9D9D; border-radius: 5px; position: absolute;\"> </div>\n",
       "    <div style=\"margin-left: 48px;\">\n",
       "        <h3 style=\"margin-bottom: 0px;\">Client</h3>\n",
       "        <p style=\"color: #9D9D9D; margin-bottom: 0px;\">Client-1227ba15-146d-11ed-a8ff-3cecef1acbfa</p>\n",
       "        <table style=\"width: 100%; text-align: left;\">\n",
       "\n",
       "        <tr>\n",
       "        \n",
       "            <td style=\"text-align: left;\"><strong>Connection method:</strong> Cluster object</td>\n",
       "            <td style=\"text-align: left;\"><strong>Cluster type:</strong> dask_jobqueue.PBSCluster</td>\n",
       "        \n",
       "        </tr>\n",
       "\n",
       "        \n",
       "            <tr>\n",
       "                <td style=\"text-align: left;\">\n",
       "                    <strong>Dashboard: </strong> <a href=\"https://jupyterhub.hpc.ucar.edu/stable/user/gmarques/high-mem/proxy/8787/status\" target=\"_blank\">https://jupyterhub.hpc.ucar.edu/stable/user/gmarques/high-mem/proxy/8787/status</a>\n",
       "                </td>\n",
       "                <td style=\"text-align: left;\"></td>\n",
       "            </tr>\n",
       "        \n",
       "\n",
       "        </table>\n",
       "\n",
       "        \n",
       "            <details>\n",
       "            <summary style=\"margin-bottom: 20px;\"><h3 style=\"display: inline;\">Cluster Info</h3></summary>\n",
       "            <div class=\"jp-RenderedHTMLCommon jp-RenderedHTML jp-mod-trusted jp-OutputArea-output\">\n",
       "    <div style=\"width: 24px; height: 24px; background-color: #e1e1e1; border: 3px solid #9D9D9D; border-radius: 5px; position: absolute;\">\n",
       "    </div>\n",
       "    <div style=\"margin-left: 48px;\">\n",
       "        <h3 style=\"margin-bottom: 0px; margin-top: 0px;\">PBSCluster</h3>\n",
       "        <p style=\"color: #9D9D9D; margin-bottom: 0px;\">5df870aa</p>\n",
       "        <table style=\"width: 100%; text-align: left;\">\n",
       "            <tr>\n",
       "                <td style=\"text-align: left;\">\n",
       "                    <strong>Dashboard:</strong> <a href=\"https://jupyterhub.hpc.ucar.edu/stable/user/gmarques/high-mem/proxy/8787/status\" target=\"_blank\">https://jupyterhub.hpc.ucar.edu/stable/user/gmarques/high-mem/proxy/8787/status</a>\n",
       "                </td>\n",
       "                <td style=\"text-align: left;\">\n",
       "                    <strong>Workers:</strong> 0\n",
       "                </td>\n",
       "            </tr>\n",
       "            <tr>\n",
       "                <td style=\"text-align: left;\">\n",
       "                    <strong>Total threads:</strong> 0\n",
       "                </td>\n",
       "                <td style=\"text-align: left;\">\n",
       "                    <strong>Total memory:</strong> 0 B\n",
       "                </td>\n",
       "            </tr>\n",
       "            \n",
       "        </table>\n",
       "\n",
       "        <details>\n",
       "            <summary style=\"margin-bottom: 20px;\">\n",
       "                <h3 style=\"display: inline;\">Scheduler Info</h3>\n",
       "            </summary>\n",
       "\n",
       "            <div style=\"\">\n",
       "    <div>\n",
       "        <div style=\"width: 24px; height: 24px; background-color: #FFF7E5; border: 3px solid #FF6132; border-radius: 5px; position: absolute;\"> </div>\n",
       "        <div style=\"margin-left: 48px;\">\n",
       "            <h3 style=\"margin-bottom: 0px;\">Scheduler</h3>\n",
       "            <p style=\"color: #9D9D9D; margin-bottom: 0px;\">Scheduler-cae1b0e9-3aba-4bb7-a9bb-af68eef59bca</p>\n",
       "            <table style=\"width: 100%; text-align: left;\">\n",
       "                <tr>\n",
       "                    <td style=\"text-align: left;\">\n",
       "                        <strong>Comm:</strong> tcp://10.12.206.63:37936\n",
       "                    </td>\n",
       "                    <td style=\"text-align: left;\">\n",
       "                        <strong>Workers:</strong> 0\n",
       "                    </td>\n",
       "                </tr>\n",
       "                <tr>\n",
       "                    <td style=\"text-align: left;\">\n",
       "                        <strong>Dashboard:</strong> <a href=\"https://jupyterhub.hpc.ucar.edu/stable/user/gmarques/high-mem/proxy/8787/status\" target=\"_blank\">https://jupyterhub.hpc.ucar.edu/stable/user/gmarques/high-mem/proxy/8787/status</a>\n",
       "                    </td>\n",
       "                    <td style=\"text-align: left;\">\n",
       "                        <strong>Total threads:</strong> 0\n",
       "                    </td>\n",
       "                </tr>\n",
       "                <tr>\n",
       "                    <td style=\"text-align: left;\">\n",
       "                        <strong>Started:</strong> Just now\n",
       "                    </td>\n",
       "                    <td style=\"text-align: left;\">\n",
       "                        <strong>Total memory:</strong> 0 B\n",
       "                    </td>\n",
       "                </tr>\n",
       "            </table>\n",
       "        </div>\n",
       "    </div>\n",
       "\n",
       "    <details style=\"margin-left: 48px;\">\n",
       "        <summary style=\"margin-bottom: 20px;\">\n",
       "            <h3 style=\"display: inline;\">Workers</h3>\n",
       "        </summary>\n",
       "\n",
       "        \n",
       "\n",
       "    </details>\n",
       "</div>\n",
       "\n",
       "        </details>\n",
       "    </div>\n",
       "</div>\n",
       "            </details>\n",
       "        \n",
       "\n",
       "    </div>\n",
       "</div>"
      ],
      "text/plain": [
       "<Client: 'tcp://10.12.206.63:37936' processes=0 threads=0, memory=0 B>"
      ]
     },
     "execution_count": 3,
     "metadata": {},
     "output_type": "execute_result"
    }
   ],
   "source": [
    "from ncar_jobqueue import NCARCluster\n",
    "from dask.distributed import Client\n",
    "\n",
    "cluster = NCARCluster(memory='2GB', processes=1)\n",
    "cluster.scale(20)\n",
    "client = Client(cluster)\n",
    "client"
   ]
  },
  {
   "cell_type": "code",
   "execution_count": 4,
   "id": "1ed669be-3842-4e1d-91ca-690b84afa026",
   "metadata": {},
   "outputs": [],
   "source": [
    "def preprocess(ds):\n",
    "    variables = ['tos','sos']\n",
    "    return ds[variables]"
   ]
  },
  {
   "cell_type": "markdown",
   "id": "53da41ae-4cdf-4d80-849e-9a693b946bba",
   "metadata": {},
   "source": [
    "### SSS in the Lab Sea"
   ]
  },
  {
   "cell_type": "code",
   "execution_count": 5,
   "id": "86f46873-c0ee-4428-9370-d0fdd966cc11",
   "metadata": {},
   "outputs": [
    {
     "data": {
      "text/plain": [
       "['bmom.e23.f09_t061_zstar_N65.nuopc.GM_tuning.002',\n",
       " 'b.cesm3_cam058_mom_c.B1850WscMOM.ne30_L58_t061.009',\n",
       " 'b.cesm3_cam058_mom_e.B1850MOM.f09_L32_t061.cam6_cice5.016',\n",
       " 'b.cesm3_cam058_mom_e.B1850MOM.ne30_L32_t061.cam6_cice5.017',\n",
       " 'b.cesm3_cam058_mom_e.B1850MOM.ne30_L32_t061.cam6_cice5.018b',\n",
       " 'b.cesm3_cam058_mom_e.B1850MOM.ne30_L32_t061.cam6_cice5.019b',\n",
       " 'b.cesm3_cam058_mom_e.B1850MOM.ne30_L32_t061.camdev_cice5.020']"
      ]
     },
     "execution_count": 5,
     "metadata": {},
     "output_type": "execute_result"
    }
   ],
   "source": [
    "casename"
   ]
  },
  {
   "cell_type": "code",
   "execution_count": 15,
   "id": "c1f37eeb-8362-406e-805e-c360469c4da3",
   "metadata": {},
   "outputs": [
    {
     "name": "stdout",
     "output_type": "stream",
     "text": [
      "b.cesm3_cam058_mom_c.B1850WscMOM.ne30_L58_t061.009\n",
      "Movie created at case009_sss_north_atlantic.mov\n",
      "b.cesm3_cam058_mom_e.B1850MOM.f09_L32_t061.cam6_cice5.016\n",
      "Movie created at case016_sss_north_atlantic.mov\n",
      "b.cesm3_cam058_mom_e.B1850MOM.ne30_L32_t061.cam6_cice5.017\n",
      "Movie created at case017_sss_north_atlantic.mov\n",
      "b.cesm3_cam058_mom_e.B1850MOM.ne30_L32_t061.cam6_cice5.018b\n",
      "Movie created at case018b_sss_north_atlantic.mov\n",
      "b.cesm3_cam058_mom_e.B1850MOM.ne30_L32_t061.cam6_cice5.019b\n",
      "Movie created at case019b_sss_north_atlantic.mov\n",
      "b.cesm3_cam058_mom_e.B1850MOM.ne30_L32_t061.camdev_cice5.020\n",
      "Movie created at case020_sss_north_atlantic.mov\n"
     ]
    }
   ],
   "source": [
    "# load hm files \n",
    "for n in [1,2,3,4,5,6]:\n",
    "  print(casename[n])\n",
    "  ds = xr.open_mfdataset(OUTDIR[n]+'/'+casename[n]+'.mom6.hm_*.nc', \n",
    "                       parallel=True, preprocess=preprocess)\n",
    "    \n",
    "  ds1 = ds.sel(xh=slice(-70,-20), yh=slice(40,75)).sel(time=slice('0001-01-01',end_date))\n",
    "  mov = Movie(ds1.sos, plotmethod='pcolormesh', vmin=27, vmax=37, \n",
    "            levels=50, cmap=cm.cm.haline, extend=\"both\")\n",
    "    \n",
    "  fname='sss/{}_sss_north_atlantic.mov'.format(label[n])\n",
    "  mov.save(fname,progress=True, framerate=15, \n",
    "         overwrite_existing=True, parallel=True)"
   ]
  },
  {
   "cell_type": "code",
   "execution_count": 14,
   "id": "fb11a3b3-a0c2-4bff-815d-e77ef54e8eff",
   "metadata": {},
   "outputs": [
    {
     "name": "stdout",
     "output_type": "stream",
     "text": [
      "Movie created at movie_sss.mov\n",
      "CPU times: user 4.2 s, sys: 172 ms, total: 4.37 s\n",
      "Wall time: 9.4 s\n"
     ]
    }
   ],
   "source": [
    "%%time\n",
    "ds = xr.open_mfdataset(OUTDIR[1]+'/'+casename[1]+'.mom6.hm_*.nc', \n",
    "                       parallel=True, preprocess=preprocess)\n",
    "ds1 = ds.sel(xh=slice(-70,-20), yh=slice(40,75)).sel(time=slice('0001-01-01','0002-01-01'))\n",
    "mov = Movie(ds1.sos, plotmethod='pcolormesh', vmin=27, vmax=37, \n",
    "            levels=50, cmap=cm.cm.haline, extend=\"both\")\n",
    "mov.save('movie_sss.mov',progress=True, framerate=10, \n",
    "         overwrite_existing=True, parallel=True)\n",
    "\n",
    "#ax.set_xlim(-80,-20)\n",
    "#ax.set_ylim(40,75)"
   ]
  },
  {
   "cell_type": "code",
   "execution_count": 13,
   "id": "d9167c80-539c-4797-a017-78e6bc0c1879",
   "metadata": {},
   "outputs": [],
   "source": [
    "def custom_plotfunc(ds, fig, tt, *args, **kwargs):\n",
    "    fig, ax = plt.subplots(figsize=(10, 5))\n",
    "    ds.isel(time=tt).plot(ax=ax, vmin=-2, vmax=8, cmap='RdBu_r')\n",
    "    ax.set_xlim(-80,-20)\n",
    "    ax.set_ylim(40,75)\n",
    "\n",
    "    return None, None\n",
    "    # ^ This is not strictly necessary, but otherwise a warning will be raised.\n",
    "\n",
    "#mov_custom.preview(30)"
   ]
  },
  {
   "cell_type": "code",
   "execution_count": null,
   "id": "cf5bf186-a016-473e-a8da-d6fe9b80de6e",
   "metadata": {},
   "outputs": [],
   "source": [
    "mov_custom = Movie(ds.tos, custom_plotfunc)\n",
    "mov_custom.save(\n",
    "    'movie_parallel.mov',\n",
    "    parallel=False,\n",
    "    overwrite_existing=True,\n",
    ")"
   ]
  },
  {
   "cell_type": "code",
   "execution_count": 7,
   "id": "fd37a07a-35bc-4552-8828-329d5268abeb",
   "metadata": {},
   "outputs": [],
   "source": [
    "mov_parallel = Movie(ds.tos.chunk({'time':1}).isel(time=slice(0,30)), vmin=-2, vmax=32)"
   ]
  },
  {
   "cell_type": "code",
   "execution_count": 8,
   "id": "dfbe451f-4516-46cd-8b10-55a4556dea87",
   "metadata": {},
   "outputs": [
    {
     "name": "stdout",
     "output_type": "stream",
     "text": [
      "Movie created at movie_parallel.mov\n",
      "CPU times: user 658 ms, sys: 87.8 ms, total: 746 ms\n",
      "Wall time: 19.8 s\n"
     ]
    }
   ],
   "source": [
    "%%time\n",
    "mov_parallel.save(\n",
    "    'movie_parallel.mov',\n",
    "    parallel=True,\n",
    "    overwrite_existing=True,\n",
    ")"
   ]
  }
 ],
 "metadata": {
  "kernelspec": {
   "display_name": "Python [conda env:miniconda-dev2]",
   "language": "python",
   "name": "conda-env-miniconda-dev2-py"
  },
  "language_info": {
   "codemirror_mode": {
    "name": "ipython",
    "version": 3
   },
   "file_extension": ".py",
   "mimetype": "text/x-python",
   "name": "python",
   "nbconvert_exporter": "python",
   "pygments_lexer": "ipython3",
   "version": "3.9.9"
  }
 },
 "nbformat": 4,
 "nbformat_minor": 5
}
