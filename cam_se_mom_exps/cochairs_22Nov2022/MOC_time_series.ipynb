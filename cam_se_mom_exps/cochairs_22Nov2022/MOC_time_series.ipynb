{
 "cells": [
  {
   "cell_type": "markdown",
   "id": "bd810f6a-5241-47be-968e-41490b252dc3",
   "metadata": {},
   "source": [
    "### MOC time series"
   ]
  },
  {
   "cell_type": "code",
   "execution_count": 1,
   "id": "a4e38aaf-577a-445e-939d-2163c706ae32",
   "metadata": {},
   "outputs": [
    {
     "name": "stderr",
     "output_type": "stream",
     "text": [
      "/glade/work/gmarques/miniconda/envs/dev2/lib/python3.9/site-packages/xarray/backends/cfgrib_.py:29: UserWarning: Failed to load cfgrib - most likely there is a problem accessing the ecCodes library. Try `import cfgrib` to get the full error message\n",
      "  warnings.warn(\n"
     ]
    },
    {
     "ename": "ModuleNotFoundError",
     "evalue": "No module named 'cartopy'",
     "output_type": "error",
     "traceback": [
      "\u001b[0;31m---------------------------------------------------------------------------\u001b[0m",
      "\u001b[0;31mModuleNotFoundError\u001b[0m                       Traceback (most recent call last)",
      "\u001b[0;32m/glade/scratch/gmarques/ipykernel_241758/426954726.py\u001b[0m in \u001b[0;36m<module>\u001b[0;34m\u001b[0m\n\u001b[1;32m      3\u001b[0m \u001b[0;32mfrom\u001b[0m \u001b[0mmom6_tools\u001b[0m\u001b[0;34m.\u001b[0m\u001b[0mMOM6grid\u001b[0m \u001b[0;32mimport\u001b[0m \u001b[0mMOM6grid\u001b[0m\u001b[0;34m\u001b[0m\u001b[0;34m\u001b[0m\u001b[0m\n\u001b[1;32m      4\u001b[0m \u001b[0;32mfrom\u001b[0m \u001b[0mmom6_tools\u001b[0m\u001b[0;34m.\u001b[0m\u001b[0mm6toolbox\u001b[0m \u001b[0;32mimport\u001b[0m \u001b[0mgenBasinMasks\u001b[0m\u001b[0;34m\u001b[0m\u001b[0;34m\u001b[0m\u001b[0m\n\u001b[0;32m----> 5\u001b[0;31m \u001b[0;32mfrom\u001b[0m \u001b[0mmom6_tools\u001b[0m\u001b[0;34m.\u001b[0m\u001b[0mm6plot\u001b[0m \u001b[0;32mimport\u001b[0m \u001b[0mmyStats\u001b[0m\u001b[0;34m,\u001b[0m \u001b[0mannotateStats\u001b[0m\u001b[0;34m\u001b[0m\u001b[0;34m\u001b[0m\u001b[0m\n\u001b[0m\u001b[1;32m      6\u001b[0m \u001b[0;34m\u001b[0m\u001b[0m\n\u001b[1;32m      7\u001b[0m \u001b[0;32mimport\u001b[0m \u001b[0mxarray\u001b[0m \u001b[0;32mas\u001b[0m \u001b[0mxr\u001b[0m\u001b[0;34m\u001b[0m\u001b[0;34m\u001b[0m\u001b[0m\n",
      "\u001b[0;32m/glade/work/gmarques/miniconda/envs/dev2/lib/python3.9/site-packages/mom6_tools-0.0.post258+dirty-py3.9.egg/mom6_tools/m6plot.py\u001b[0m in \u001b[0;36m<module>\u001b[0;34m\u001b[0m\n\u001b[1;32m     16\u001b[0m \u001b[0;32mimport\u001b[0m \u001b[0mmath\u001b[0m\u001b[0;34m\u001b[0m\u001b[0;34m\u001b[0m\u001b[0m\n\u001b[1;32m     17\u001b[0m \u001b[0;32mimport\u001b[0m \u001b[0mnumpy\u001b[0m\u001b[0;34m,\u001b[0m \u001b[0mnumpy\u001b[0m\u001b[0;34m.\u001b[0m\u001b[0mmatlib\u001b[0m\u001b[0;34m\u001b[0m\u001b[0;34m\u001b[0m\u001b[0m\n\u001b[0;32m---> 18\u001b[0;31m \u001b[0;32mimport\u001b[0m \u001b[0mcartopy\u001b[0m\u001b[0;34m.\u001b[0m\u001b[0mcrs\u001b[0m \u001b[0;32mas\u001b[0m \u001b[0mccrs\u001b[0m\u001b[0;34m\u001b[0m\u001b[0;34m\u001b[0m\u001b[0m\n\u001b[0m\u001b[1;32m     19\u001b[0m \u001b[0;32mimport\u001b[0m \u001b[0mcartopy\u001b[0m\u001b[0;34m.\u001b[0m\u001b[0mfeature\u001b[0m\u001b[0;34m\u001b[0m\u001b[0;34m\u001b[0m\u001b[0m\n\u001b[1;32m     20\u001b[0m \u001b[0;32mfrom\u001b[0m \u001b[0mmom6_tools\u001b[0m \u001b[0;32mimport\u001b[0m \u001b[0mVerticalSplitScale\u001b[0m\u001b[0;34m\u001b[0m\u001b[0;34m\u001b[0m\u001b[0m\n",
      "\u001b[0;31mModuleNotFoundError\u001b[0m: No module named 'cartopy'"
     ]
    }
   ],
   "source": [
    "# mom6_tools\n",
    "from mom6_tools.DiagsCase import DiagsCase\n",
    "from mom6_tools.MOM6grid import MOM6grid\n",
    "from mom6_tools.m6toolbox import genBasinMasks\n",
    "from mom6_tools.m6plot import myStats, annotateStats\n",
    "\n",
    "import xarray as xr\n",
    "import numpy as np\n",
    "from datetime import date\n",
    "import matplotlib.pyplot as plt\n",
    "from matplotlib.animation import FuncAnimation\n",
    "from IPython import display\n",
    "import warnings, os, yaml\n",
    "warnings.filterwarnings(\"ignore\")"
   ]
  },
  {
   "cell_type": "code",
   "execution_count": null,
   "id": "c01892bf-f3c2-4043-8c3d-a2902e6ed8ff",
   "metadata": {},
   "outputs": [],
   "source": [
    "diag_config_yml = yaml.load(open('diag_config_comparison.yml','r'),\n",
    "                            Loader=yaml.Loader)"
   ]
  },
  {
   "cell_type": "code",
   "execution_count": null,
   "id": "37bd57f4-bd55-43b4-9ab7-ef1b1b45823d",
   "metadata": {},
   "outputs": [],
   "source": [
    "# initialize lists\n",
    "dcase = []; casename=[]\n",
    "label = []; outdir=[]\n",
    "ncfiles=[]\n",
    "ncases = len(diag_config_yml.keys()) - 1\n",
    "if ncases < 2:\n",
    "  # Create the case instance\n",
    "  dcase = DiagsCase(diag_config_yml['Case'], xrformat=True)\n",
    "  casename.append(dcase.casename)\n",
    "  label.append(diag_config_yml['Case']['SNAME'])\n",
    "  ncfiles.append(diag_config_yml['Case']['OCN_DIAG_ROOT'])\n",
    "  DOUT_S = dcase.get_value('DOUT_S')\n",
    "  if DOUT_S:\n",
    "    outdir.append(dcase.get_value('DOUT_S_ROOT')+'/ocn/hist/')\n",
    "  else:\n",
    "    outdir.append(dcase.get_value('RUNDIR'))\n",
    "else:\n",
    "  for i in range(ncases):\n",
    "    cname = 'Case{}'.format(i+1)\n",
    "    dcase = DiagsCase(diag_config_yml[cname], xrformat=True)\n",
    "    casename.append(dcase.casename)\n",
    "    label.append(diag_config_yml[cname]['SNAME'])\n",
    "    ncfiles.append(diag_config_yml[cname]['OCN_DIAG_ROOT'])\n",
    "    DOUT_S = dcase.get_value('DOUT_S')\n",
    "    if DOUT_S:\n",
    "      outdir.append(dcase.get_value('DOUT_S_ROOT')+'/ocn/hist/')\n",
    "    else:\n",
    "      outdir.append(dcase.get_value('RUNDIR'))\n",
    "    \n",
    "# set avg dates\n",
    "avg = diag_config_yml['Avg']\n",
    "start_date = avg['start_date']\n",
    "end_date = avg['end_date']"
   ]
  },
  {
   "cell_type": "code",
   "execution_count": null,
   "id": "ff4cec28-0d01-4fb9-b040-ff4299cf79b0",
   "metadata": {},
   "outputs": [],
   "source": [
    "ncfiles"
   ]
  },
  {
   "cell_type": "code",
   "execution_count": null,
   "id": "1b0025a5-0d44-449f-9726-b40c3adae975",
   "metadata": {},
   "outputs": [],
   "source": [
    "# for plotting, the following was a feedback from Keith Lindsay.\n",
    "linestyle = ['solid','solid','solid',\n",
    "             'dashed','dashed','dashed',\n",
    "             'dotted','dotted','dotted']\n",
    "color = ['black','red','blue','black',\n",
    "         'red','blue','black',\n",
    "         'red','blue']"
   ]
  },
  {
   "cell_type": "code",
   "execution_count": null,
   "id": "5ba13fdf-42fd-4177-b9c6-e7b8bfbe2255",
   "metadata": {},
   "outputs": [],
   "source": [
    "xr.__version__"
   ]
  },
  {
   "cell_type": "code",
   "execution_count": 2,
   "id": "d4385358-4f97-40de-99ed-9f6d787179c7",
   "metadata": {},
   "outputs": [
    {
     "ename": "NameError",
     "evalue": "name 'plt' is not defined",
     "output_type": "error",
     "traceback": [
      "\u001b[0;31m---------------------------------------------------------------------------\u001b[0m",
      "\u001b[0;31mNameError\u001b[0m                                 Traceback (most recent call last)",
      "\u001b[0;32m/glade/scratch/gmarques/ipykernel_240775/1754670183.py\u001b[0m in \u001b[0;36m<module>\u001b[0;34m\u001b[0m\n\u001b[1;32m      1\u001b[0m \u001b[0mget_ipython\u001b[0m\u001b[0;34m(\u001b[0m\u001b[0;34m)\u001b[0m\u001b[0;34m.\u001b[0m\u001b[0mrun_line_magic\u001b[0m\u001b[0;34m(\u001b[0m\u001b[0;34m'matplotlib'\u001b[0m\u001b[0;34m,\u001b[0m \u001b[0;34m'inline'\u001b[0m\u001b[0;34m)\u001b[0m\u001b[0;34m\u001b[0m\u001b[0;34m\u001b[0m\u001b[0m\n\u001b[1;32m      2\u001b[0m \u001b[0;34m\u001b[0m\u001b[0m\n\u001b[0;32m----> 3\u001b[0;31m \u001b[0mfig\u001b[0m \u001b[0;34m=\u001b[0m \u001b[0mplt\u001b[0m\u001b[0;34m.\u001b[0m\u001b[0mfigure\u001b[0m\u001b[0;34m(\u001b[0m\u001b[0mfigsize\u001b[0m\u001b[0;34m=\u001b[0m\u001b[0;34m(\u001b[0m\u001b[0;36m12\u001b[0m\u001b[0;34m,\u001b[0m \u001b[0;36m4\u001b[0m\u001b[0;34m)\u001b[0m\u001b[0;34m)\u001b[0m\u001b[0;34m\u001b[0m\u001b[0;34m\u001b[0m\u001b[0m\n\u001b[0m\u001b[1;32m      4\u001b[0m \u001b[0;34m\u001b[0m\u001b[0m\n\u001b[1;32m      5\u001b[0m \u001b[0;32mfor\u001b[0m \u001b[0mn\u001b[0m \u001b[0;32min\u001b[0m \u001b[0mrange\u001b[0m\u001b[0;34m(\u001b[0m\u001b[0mlen\u001b[0m\u001b[0;34m(\u001b[0m\u001b[0mcasename\u001b[0m\u001b[0;34m)\u001b[0m\u001b[0;34m)\u001b[0m\u001b[0;34m:\u001b[0m\u001b[0;34m\u001b[0m\u001b[0;34m\u001b[0m\u001b[0m\n",
      "\u001b[0;31mNameError\u001b[0m: name 'plt' is not defined"
     ]
    }
   ],
   "source": [
    "%matplotlib inline\n",
    "\n",
    "fig = plt.figure(figsize=(12, 4))\n",
    "\n",
    "for n in range(len(casename)):\n",
    "  ds1 = xr.open_dataset(ncfiles[n]+casename[n]+'_MOC.nc')\n",
    "  ds = ds1.sel(time=slice(start_date,end_date)).resample(time=\"1Y\", closed='left').mean('time')\n",
    "  plt.plot(ds.time, ds.amoc_26, label=label[n], lw=2, linestyle=linestyle[n],  \n",
    "           color=color[n])\n",
    "\n",
    "plt.title('AMOC 26 N', fontsize=16)\n",
    "plt.xlabel('Time [years]', fontsize=16)\n",
    "plt.ylabel('Sv', fontsize=16)\n",
    "plt.grid()\n",
    "plt.legend(fontsize=13, ncol=2);\n",
    "#fname='PNG/moc_26N.png'\n",
    "#plt.savefig(fname, dpi=150, bbox_inches='tight')"
   ]
  },
  {
   "cell_type": "code",
   "execution_count": 3,
   "id": "1533dfa1-e0b9-47b4-875c-06d237d6c8ff",
   "metadata": {},
   "outputs": [
    {
     "ename": "NameError",
     "evalue": "name 'plt' is not defined",
     "output_type": "error",
     "traceback": [
      "\u001b[0;31m---------------------------------------------------------------------------\u001b[0m",
      "\u001b[0;31mNameError\u001b[0m                                 Traceback (most recent call last)",
      "\u001b[0;32m/glade/scratch/gmarques/ipykernel_240775/4049637351.py\u001b[0m in \u001b[0;36m<module>\u001b[0;34m\u001b[0m\n\u001b[1;32m      1\u001b[0m \u001b[0mget_ipython\u001b[0m\u001b[0;34m(\u001b[0m\u001b[0;34m)\u001b[0m\u001b[0;34m.\u001b[0m\u001b[0mrun_line_magic\u001b[0m\u001b[0;34m(\u001b[0m\u001b[0;34m'matplotlib'\u001b[0m\u001b[0;34m,\u001b[0m \u001b[0;34m'inline'\u001b[0m\u001b[0;34m)\u001b[0m\u001b[0;34m\u001b[0m\u001b[0;34m\u001b[0m\u001b[0m\n\u001b[1;32m      2\u001b[0m \u001b[0;34m\u001b[0m\u001b[0m\n\u001b[0;32m----> 3\u001b[0;31m \u001b[0mfig\u001b[0m \u001b[0;34m=\u001b[0m \u001b[0mplt\u001b[0m\u001b[0;34m.\u001b[0m\u001b[0mfigure\u001b[0m\u001b[0;34m(\u001b[0m\u001b[0mfigsize\u001b[0m\u001b[0;34m=\u001b[0m\u001b[0;34m(\u001b[0m\u001b[0;36m12\u001b[0m\u001b[0;34m,\u001b[0m \u001b[0;36m4\u001b[0m\u001b[0;34m)\u001b[0m\u001b[0;34m)\u001b[0m\u001b[0;34m\u001b[0m\u001b[0;34m\u001b[0m\u001b[0m\n\u001b[0m\u001b[1;32m      4\u001b[0m \u001b[0;34m\u001b[0m\u001b[0m\n\u001b[1;32m      5\u001b[0m \u001b[0;32mfor\u001b[0m \u001b[0mn\u001b[0m \u001b[0;32min\u001b[0m \u001b[0mrange\u001b[0m\u001b[0;34m(\u001b[0m\u001b[0mlen\u001b[0m\u001b[0;34m(\u001b[0m\u001b[0mcasename\u001b[0m\u001b[0;34m)\u001b[0m\u001b[0;34m)\u001b[0m\u001b[0;34m:\u001b[0m\u001b[0;34m\u001b[0m\u001b[0;34m\u001b[0m\u001b[0m\n",
      "\u001b[0;31mNameError\u001b[0m: name 'plt' is not defined"
     ]
    }
   ],
   "source": [
    "%matplotlib inline\n",
    "\n",
    "fig = plt.figure(figsize=(12, 4))\n",
    "\n",
    "for n in range(len(casename)):\n",
    "  ds1 = xr.open_dataset(ncfiles[n]+casename[n]+'_MOC.nc')\n",
    "  ds = ds1.sel(time=slice(start_date,end_date)).resample(time=\"1Y\", closed='left').mean('time')\n",
    "  plt.plot(ds.time, ds.amoc_45, label=label[n], lw=2, linestyle=linestyle[n],  \n",
    "           color=color[n])\n",
    "\n",
    "plt.title('AMOC 45 N', fontsize=16)\n",
    "plt.xlabel('Time [years]', fontsize=16)\n",
    "plt.ylabel('Sv', fontsize=16)\n",
    "plt.grid()\n",
    "plt.legend(fontsize=13, ncol=2);\n",
    "#fname='PNG/moc_45N.png'\n",
    "#plt.savefig(fname, dpi=150, bbox_inches='tight')"
   ]
  },
  {
   "cell_type": "code",
   "execution_count": null,
   "id": "1db2f77c-9bdb-47e4-9a6e-2c85a58bfba8",
   "metadata": {},
   "outputs": [],
   "source": []
  }
 ],
 "metadata": {
  "kernelspec": {
   "display_name": "Python [conda env:miniconda-dev2]",
   "language": "python",
   "name": "conda-env-miniconda-dev2-py"
  },
  "language_info": {
   "codemirror_mode": {
    "name": "ipython",
    "version": 3
   },
   "file_extension": ".py",
   "mimetype": "text/x-python",
   "name": "python",
   "nbconvert_exporter": "python",
   "pygments_lexer": "ipython3",
   "version": "3.9.9"
  }
 },
 "nbformat": 4,
 "nbformat_minor": 5
}
