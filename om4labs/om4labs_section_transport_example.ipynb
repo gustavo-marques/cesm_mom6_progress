{
 "cells": [
  {
   "cell_type": "markdown",
   "id": "ffd63dd7-96f1-49c4-b504-d773c4a562ba",
   "metadata": {},
   "source": [
    "### Section transports"
   ]
  },
  {
   "cell_type": "code",
   "execution_count": 1,
   "id": "3e2ec4b2-a04e-48be-a362-0294d699ce6d",
   "metadata": {},
   "outputs": [],
   "source": [
    "import om4labs\n",
    "import matplotlib\n",
    "import matplotlib.pyplot as plt"
   ]
  },
  {
   "cell_type": "code",
   "execution_count": 2,
   "id": "14429804-f4ea-4e0c-a88b-581130b3ed4f",
   "metadata": {},
   "outputs": [
    {
     "data": {
      "text/plain": [
       "['__builtins__',\n",
       " '__cached__',\n",
       " '__doc__',\n",
       " '__file__',\n",
       " '__loader__',\n",
       " '__name__',\n",
       " '__package__',\n",
       " '__path__',\n",
       " '__spec__',\n",
       " 'avail',\n",
       " 'enso',\n",
       " 'generic_annual_bias_1x1deg',\n",
       " 'generic_section_transport',\n",
       " 'generic_yz_annual_bias_1x1deg',\n",
       " 'heat_transport',\n",
       " 'moc',\n",
       " 'seaice',\n",
       " 'section_transports',\n",
       " 'so_yz_annual_bias_1x1deg',\n",
       " 'sss_annual_bias_1x1deg',\n",
       " 'sst_annual_bias_1x1deg',\n",
       " 'thetao_yz_annual_bias_1x1deg']"
      ]
     },
     "execution_count": 2,
     "metadata": {},
     "output_type": "execute_result"
    }
   ],
   "source": [
    "dir(om4labs.diags)"
   ]
  },
  {
   "cell_type": "code",
   "execution_count": 3,
   "id": "fac79b3a-4b24-45cb-9e75-d6d23b328dac",
   "metadata": {},
   "outputs": [
    {
     "name": "stdout",
     "output_type": "stream",
     "text": [
      "usage: section_transports.py [-h] [-l LABEL] [-o OUTDIR] [-i] [-v] [-f FORMAT]\n",
      "                             [--netcdf NETCDF]\n",
      "                             PPDIR [PPDIR ...]\n",
      "\n",
      "Driver script for plotting all OM4 section transports\n",
      "\n",
      "positional arguments:\n",
      "  PPDIR                 Path to root post-processing directory (<...>/pp)\n",
      "\n",
      "optional arguments:\n",
      "  -h, --help            show this help message and exit\n",
      "  -l LABEL, --label LABEL\n",
      "                        String label to annotate the plot\n",
      "  -o OUTDIR, --outdir OUTDIR\n",
      "                        Output directory. Default is current directory\n",
      "  -i, --interactive     Interactive mode displays plot to screen. Default is False\n",
      "  -v, --verbose         Verbose output\n",
      "  -f FORMAT, --format FORMAT\n",
      "                        Output format for plots. Default is png\n",
      "  --netcdf NETCDF       Name of NetCDF file containing passage timeseries. Default is None.\n"
     ]
    }
   ],
   "source": [
    "!/glade/u/home/gmarques/libs/om4labs/om4labs/diags/section_transports/section_transports.py -h"
   ]
  },
  {
   "cell_type": "markdown",
   "id": "d49c7d4c-ad2b-473c-aa03-9fefe49366b9",
   "metadata": {},
   "source": [
    "### OM4-lab construction of a dictionary "
   ]
  },
  {
   "cell_type": "code",
   "execution_count": 22,
   "id": "2403a68f-da28-471f-adec-d2a88cc58f8b",
   "metadata": {},
   "outputs": [
    {
     "data": {
      "text/plain": [
       "{'ppdir': '/glade/scratch/gmarques/OM4_025_JRA/',\n",
       " 'outdir': './',\n",
       " 'netcdf': None,\n",
       " 'interactive': False,\n",
       " 'label': 'OM4_025',\n",
       " 'verbose': False,\n",
       " 'format': None}"
      ]
     },
     "execution_count": 22,
     "metadata": {},
     "output_type": "execute_result"
    }
   ],
   "source": [
    "path = '/glade/scratch/gmarques/OM4_025_JRA/'\n",
    "dict_om4 = dict(ppdir=path,\n",
    "               outdir='./',\n",
    "               netcdf=None,\n",
    "               interactive=False,\n",
    "               label='OM4_025',\n",
    "               verbose=False,\n",
    "               format= None #'inline'\n",
    "               )\n",
    "dict_om4"
   ]
  },
  {
   "cell_type": "code",
   "execution_count": 23,
   "id": "16b9b523-4b0f-4961-b3af-1ccfade0252f",
   "metadata": {},
   "outputs": [
    {
     "ename": "AssertionError",
     "evalue": "Only one path may be provided to this routine",
     "output_type": "error",
     "traceback": [
      "\u001b[0;31m---------------------------------------------------------------------------\u001b[0m",
      "\u001b[0;31mAssertionError\u001b[0m                            Traceback (most recent call last)",
      "\u001b[0;32m/glade/scratch/gmarques/ipykernel_225109/3336632406.py\u001b[0m in \u001b[0;36m<module>\u001b[0;34m\u001b[0m\n\u001b[1;32m      1\u001b[0m \u001b[0mget_ipython\u001b[0m\u001b[0;34m(\u001b[0m\u001b[0;34m)\u001b[0m\u001b[0;34m.\u001b[0m\u001b[0mrun_line_magic\u001b[0m\u001b[0;34m(\u001b[0m\u001b[0;34m'matplotlib'\u001b[0m\u001b[0;34m,\u001b[0m \u001b[0;34m'inline'\u001b[0m\u001b[0;34m)\u001b[0m\u001b[0;34m\u001b[0m\u001b[0;34m\u001b[0m\u001b[0m\n\u001b[0;32m----> 2\u001b[0;31m \u001b[0mfigs\u001b[0m \u001b[0;34m=\u001b[0m \u001b[0mom4labs\u001b[0m\u001b[0;34m.\u001b[0m\u001b[0mdiags\u001b[0m\u001b[0;34m.\u001b[0m\u001b[0msection_transports\u001b[0m\u001b[0;34m.\u001b[0m\u001b[0mrun\u001b[0m\u001b[0;34m(\u001b[0m\u001b[0mdict_om4\u001b[0m\u001b[0;34m)\u001b[0m\u001b[0;34m\u001b[0m\u001b[0;34m\u001b[0m\u001b[0m\n\u001b[0m\u001b[1;32m      3\u001b[0m \u001b[0mplt\u001b[0m\u001b[0;34m.\u001b[0m\u001b[0mshow\u001b[0m\u001b[0;34m(\u001b[0m\u001b[0;34m)\u001b[0m\u001b[0;34m\u001b[0m\u001b[0;34m\u001b[0m\u001b[0m\n",
      "\u001b[0;32m~/libs/om4labs/om4labs/diags/section_transports/section_transports.py\u001b[0m in \u001b[0;36mrun\u001b[0;34m(dictArgs)\u001b[0m\n\u001b[1;32m    179\u001b[0m     \u001b[0;31m# --- the main show ---\u001b[0m\u001b[0;34m\u001b[0m\u001b[0;34m\u001b[0m\u001b[0;34m\u001b[0m\u001b[0m\n\u001b[1;32m    180\u001b[0m \u001b[0;34m\u001b[0m\u001b[0m\n\u001b[0;32m--> 181\u001b[0;31m     \u001b[0;32massert\u001b[0m \u001b[0mlen\u001b[0m\u001b[0;34m(\u001b[0m\u001b[0mdictArgs\u001b[0m\u001b[0;34m[\u001b[0m\u001b[0;34m\"ppdir\"\u001b[0m\u001b[0;34m]\u001b[0m\u001b[0;34m)\u001b[0m \u001b[0;34m==\u001b[0m \u001b[0;36m1\u001b[0m\u001b[0;34m,\u001b[0m \u001b[0;34m\"Only one path may be provided to this routine\"\u001b[0m\u001b[0;34m\u001b[0m\u001b[0;34m\u001b[0m\u001b[0m\n\u001b[0m\u001b[1;32m    182\u001b[0m     \u001b[0mppdir\u001b[0m \u001b[0;34m=\u001b[0m \u001b[0mdictArgs\u001b[0m\u001b[0;34m[\u001b[0m\u001b[0;34m\"ppdir\"\u001b[0m\u001b[0;34m]\u001b[0m\u001b[0;34m[\u001b[0m\u001b[0;36m0\u001b[0m\u001b[0;34m]\u001b[0m\u001b[0;34m\u001b[0m\u001b[0;34m\u001b[0m\u001b[0m\n\u001b[1;32m    183\u001b[0m \u001b[0;34m\u001b[0m\u001b[0m\n",
      "\u001b[0;31mAssertionError\u001b[0m: Only one path may be provided to this routine"
     ]
    }
   ],
   "source": [
    "%matplotlib inline\n",
    "fig = om4labs.diags.section_transports.run(dict_om4) \n",
    "#fix.ax[0].plot()\n",
    "plt.show()"
   ]
  },
  {
   "cell_type": "code",
   "execution_count": 17,
   "id": "b912e4fe-d58d-4ea6-b297-00a20522df58",
   "metadata": {},
   "outputs": [],
   "source": [
    "#om4labs.om4parser.default_diag_parser(template=True)"
   ]
  },
  {
   "cell_type": "code",
   "execution_count": null,
   "id": "a44ce968-5c4c-40c0-944f-faacc4918f7d",
   "metadata": {},
   "outputs": [],
   "source": []
  }
 ],
 "metadata": {
  "kernelspec": {
   "display_name": "Python [conda env:miniconda-om4labs]",
   "language": "python",
   "name": "conda-env-miniconda-om4labs-py"
  },
  "language_info": {
   "codemirror_mode": {
    "name": "ipython",
    "version": 3
   },
   "file_extension": ".py",
   "mimetype": "text/x-python",
   "name": "python",
   "nbconvert_exporter": "python",
   "pygments_lexer": "ipython3",
   "version": "3.8.12"
  }
 },
 "nbformat": 4,
 "nbformat_minor": 5
}
