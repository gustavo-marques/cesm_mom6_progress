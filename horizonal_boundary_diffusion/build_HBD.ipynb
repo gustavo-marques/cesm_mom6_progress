{
 "cells": [
  {
   "cell_type": "markdown",
   "id": "846e5a2a-7985-4b28-8bf6-d92e4f354479",
   "metadata": {},
   "source": [
    "### Building the HBD grid"
   ]
  },
  {
   "cell_type": "code",
   "execution_count": 1,
   "id": "b86f27ea-f0ed-4765-a242-a7ed343b58b3",
   "metadata": {},
   "outputs": [],
   "source": [
    "import numpy as np\n",
    "import matplotlib.pyplot as plt"
   ]
  },
  {
   "cell_type": "code",
   "execution_count": 2,
   "id": "3d7a7817-c800-44ec-9f1b-cb0a40208fdc",
   "metadata": {},
   "outputs": [
    {
     "name": "stdout",
     "output_type": "stream",
     "text": [
      "sum h_ = 80.0; max depth = 80.0\n"
     ]
    }
   ],
   "source": [
    "h_L = [10.,10.,10.,10.,10.,30.,0,0,0,0,0] # left h's\n",
    "max_depth = 80. # max depth of HBD grid\n",
    "k_max = 5 # max k index\n",
    "alpha = 1.0e-5 # max slope\n",
    "dx = 110.0e3 # dx in m\n",
    "print('sum h_ = {}; max depth = {}'.format(np.sum(h_L), max_depth))"
   ]
  },
  {
   "cell_type": "code",
   "execution_count": 3,
   "id": "3f9ddc97-4f37-4559-806a-0a6f4e122801",
   "metadata": {},
   "outputs": [],
   "source": [
    "# step # 1: build interfaces\n",
    "e_L = np.zeros(len(h_L)+1)\n",
    "for k in range(1,len(h_L)+1):\n",
    "    e_L[k] = e_L[k-1] + h_L[k-1]"
   ]
  },
  {
   "cell_type": "code",
   "execution_count": 4,
   "id": "fd12927f-02e6-41f1-946e-e413f4230c5f",
   "metadata": {},
   "outputs": [
    {
     "data": {
      "text/plain": [
       "array([ 0., 10., 20., 30., 40., 50., 80., 80., 80., 80., 80., 80.])"
      ]
     },
     "execution_count": 4,
     "metadata": {},
     "output_type": "execute_result"
    }
   ],
   "source": [
    "e_L"
   ]
  },
  {
   "cell_type": "code",
   "execution_count": 8,
   "id": "a7802c5f-94f8-4bd8-86fd-54ea32defefe",
   "metadata": {},
   "outputs": [
    {
     "name": "stdout",
     "output_type": "stream",
     "text": [
      "k=6; slope=1.0000000000000003e-05; dh=0.8329812666744318; e_L[k]=80.0;  e_R[k]=78.90000000003667\n",
      "alpha @ k = 9.999999999999972e-06\n",
      "k=5; slope=6.250000000000001e-06; dh=0.6022873461349643; e_L[k]=50.0;  e_R[k]=49.31250000000895\n",
      "alpha @ k = 6.249999999999991e-06\n",
      "k=4; slope=5.000000000000001e-06; dh=0.502843210927861; e_L[k]=40.0;  e_R[k]=39.450000000004586\n",
      "alpha @ k = 4.999999999999977e-06\n",
      "k=3; slope=3.7500000000000005e-06; dh=0.3912355791271742; e_L[k]=30.0;  e_R[k]=29.587500000001935\n",
      "alpha @ k = 3.749999999999989e-06\n",
      "k=2; slope=2.5000000000000006e-06; dh=0.2683662109059069; e_L[k]=20.0;  e_R[k]=19.725000000000573\n",
      "alpha @ k = 2.4999999999999955e-06\n",
      "k=1; slope=1.2500000000000003e-06; dh=0.13664316249108713; e_L[k]=10.0;  e_R[k]=9.862500000000072\n",
      "alpha @ k = 1.2499999999999986e-06\n",
      "\n",
      "\n",
      "k=7; e_L[k]=80.0;  e_R[k]=78.90000000003667\n",
      "k=8; e_L[k]=80.0;  e_R[k]=78.90000000003667\n",
      "k=9; e_L[k]=80.0;  e_R[k]=78.90000000003667\n",
      "k=10; e_L[k]=80.0;  e_R[k]=78.90000000003667\n",
      "k=11; e_L[k]=80.0;  e_R[k]=78.90000000003667\n"
     ]
    }
   ],
   "source": [
    "# step # 2: build right interfaces\n",
    "e_R = np.zeros(len(e_L))\n",
    "for k in range(k_max+1,0,-1):\n",
    "    slope = (alpha/max_depth)*e_L[k]\n",
    "    e_R[k] = e_L[k] - np.arctan(slope)*dx\n",
    "    print('k={}; slope={}; dh={}; e_L[k]={};  e_R[k]={}'.format(k, slope, np.arctan(slope*dx), e_L[k], e_R[k]))\n",
    "    print('alpha @ k = {}'.format(np.tan((e_L[k]-e_R[k])/dx)))\n",
    "\n",
    "print('\\n')\n",
    "\n",
    "for k in range(k_max+2, len(e_R)):\n",
    "    e_R[k] = e_R[k_max+1]\n",
    "    print('k={}; e_L[k]={};  e_R[k]={}'.format(k, e_L[k], e_R[k]))\n",
    "    "
   ]
  },
  {
   "cell_type": "code",
   "execution_count": 9,
   "id": "7085a480-ba3e-4e85-87d7-b59a25bf9008",
   "metadata": {},
   "outputs": [
    {
     "data": {
      "text/plain": [
       "array([ 0.    ,  9.8625, 19.725 , 29.5875, 39.45  , 49.3125, 78.9   ,\n",
       "       78.9   , 78.9   , 78.9   , 78.9   , 78.9   ])"
      ]
     },
     "execution_count": 9,
     "metadata": {},
     "output_type": "execute_result"
    }
   ],
   "source": [
    "e_R"
   ]
  },
  {
   "cell_type": "code",
   "execution_count": 10,
   "id": "35bf1fc3-4950-421f-acab-58cbbd09c82b",
   "metadata": {},
   "outputs": [
    {
     "name": "stdout",
     "output_type": "stream",
     "text": [
      "k=0; h_L[k]=10.0;  h_R[k]=9.862500000000072\n",
      "k=1; h_L[k]=10.0;  h_R[k]=9.862500000000502\n",
      "k=2; h_L[k]=10.0;  h_R[k]=9.862500000001361\n",
      "k=3; h_L[k]=10.0;  h_R[k]=9.862500000002651\n",
      "k=4; h_L[k]=10.0;  h_R[k]=9.862500000004367\n",
      "k=5; h_L[k]=30.0;  h_R[k]=29.587500000027717\n",
      "k=6; h_L[k]=0;  h_R[k]=0.0\n",
      "k=7; h_L[k]=0;  h_R[k]=0.0\n",
      "k=8; h_L[k]=0;  h_R[k]=0.0\n",
      "k=9; h_L[k]=0;  h_R[k]=0.0\n",
      "k=10; h_L[k]=0;  h_R[k]=0.0\n"
     ]
    }
   ],
   "source": [
    "# step # 3: build right h's\n",
    "h_R = np.zeros(len(h_L))\n",
    "for k in range(len(h_L)):\n",
    "    h_R[k] = e_R[k+1] - e_R[k]\n",
    "    print('k={}; h_L[k]={};  h_R[k]={}'.format(k, h_L[k], h_R[k]))"
   ]
  },
  {
   "cell_type": "code",
   "execution_count": 15,
   "id": "4f874000-8692-4c12-a773-a6296b716fe0",
   "metadata": {},
   "outputs": [
    {
     "name": "stdout",
     "output_type": "stream",
     "text": [
      "k=0; alpha_profile[k]=0.0\n",
      "k=1; alpha_profile[k]=1.2499999999999986e-06\n",
      "k=2; alpha_profile[k]=2.4999999999999955e-06\n",
      "k=3; alpha_profile[k]=3.749999999999989e-06\n",
      "k=4; alpha_profile[k]=4.999999999999977e-06\n",
      "k=5; alpha_profile[k]=6.249999999999991e-06\n",
      "k=6; alpha_profile[k]=9.999999999999972e-06\n",
      "k=7; alpha_profile[k]=9.999999999999972e-06\n",
      "k=8; alpha_profile[k]=9.999999999999972e-06\n",
      "k=9; alpha_profile[k]=9.999999999999972e-06\n",
      "k=10; alpha_profile[k]=9.999999999999972e-06\n",
      "k=11; alpha_profile[k]=9.999999999999972e-06\n",
      "k=7; alpha_profile[k]=nan\n",
      "k=8; alpha_profile[k]=nan\n",
      "k=9; alpha_profile[k]=nan\n",
      "k=10; alpha_profile[k]=nan\n",
      "k=11; alpha_profile[k]=nan\n"
     ]
    }
   ],
   "source": [
    "# step # 4: check the final alpha profile\n",
    "alpha_profile = np.zeros(len(e_R))\n",
    "for k in range(len(e_L)):\n",
    "    alpha_profile[k] = np.tan((e_L[k]-e_R[k])/dx)\n",
    "    print('k={}; alpha_profile[k]={}'.format(k, alpha_profile[k]))\n",
    "    \n",
    "for k in range(k_max+2,len(e_R)):\n",
    "    alpha_profile[k] = np.nan\n",
    "    print('k={}; alpha_profile[k]={}'.format(k, alpha_profile[k]))"
   ]
  },
  {
   "cell_type": "code",
   "execution_count": 16,
   "id": "806331c4-b14e-42aa-a05e-919eb8203e32",
   "metadata": {},
   "outputs": [
    {
     "data": {
      "text/plain": [
       "array([0.00e+00, 1.25e-06, 2.50e-06, 3.75e-06, 5.00e-06, 6.25e-06,\n",
       "       1.00e-05,      nan,      nan,      nan,      nan,      nan])"
      ]
     },
     "execution_count": 16,
     "metadata": {},
     "output_type": "execute_result"
    }
   ],
   "source": [
    "alpha_profile"
   ]
  },
  {
   "cell_type": "code",
   "execution_count": 17,
   "id": "031cea3f-1b54-49e2-9cbe-8f075a2645df",
   "metadata": {},
   "outputs": [
    {
     "data": {
      "image/png": "[encoded data removed]",
      "text/plain": [
       "<Figure size 432x288 with 1 Axes>"
      ]
     },
     "metadata": {
      "needs_background": "light"
     },
     "output_type": "display_data"
    }
   ],
   "source": [
    "plt.plot(alpha_profile,-e_L)\n",
    "plt.grid()"
   ]
  },
  {
   "cell_type": "code",
   "execution_count": 20,
   "id": "385ce5a6-4679-4c10-9e87-a1242b6be9b9",
   "metadata": {},
   "outputs": [
    {
     "data": {
      "text/plain": [
       "-9.999999999666668e-06"
      ]
     },
     "execution_count": 20,
     "metadata": {},
     "output_type": "execute_result"
    }
   ],
   "source": [
    "np.arctan(-1e-5)"
   ]
  },
  {
   "cell_type": "code",
   "execution_count": null,
   "id": "388f25b5-6a20-4e7b-b39e-0cfc333056b5",
   "metadata": {},
   "outputs": [],
   "source": []
  }
 ],
 "metadata": {
  "kernelspec": {
   "display_name": "Python [conda env:miniconda-dev2]",
   "language": "python",
   "name": "conda-env-miniconda-dev2-py"
  },
  "language_info": {
   "codemirror_mode": {
    "name": "ipython",
    "version": 3
   },
   "file_extension": ".py",
   "mimetype": "text/x-python",
   "name": "python",
   "nbconvert_exporter": "python",
   "pygments_lexer": "ipython3",
   "version": "3.9.9"
  }
 },
 "nbformat": 4,
 "nbformat_minor": 5
}
