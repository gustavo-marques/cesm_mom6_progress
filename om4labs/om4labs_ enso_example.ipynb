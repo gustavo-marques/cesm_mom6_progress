{
 "cells": [
  {
   "cell_type": "markdown",
   "id": "db9576bb-8e3d-4f2e-b4d1-492ad29fba5d",
   "metadata": {},
   "source": [
    "### ENSO"
   ]
  },
  {
   "cell_type": "code",
   "execution_count": 1,
   "id": "43a50d4e-dc5d-494f-adda-ba9ce86c5543",
   "metadata": {},
   "outputs": [],
   "source": [
    "import om4labs\n",
    "import matplotlib\n",
    "import matplotlib.pyplot as plt"
   ]
  },
  {
   "cell_type": "code",
   "execution_count": 2,
   "id": "14429804-f4ea-4e0c-a88b-581130b3ed4f",
   "metadata": {},
   "outputs": [
    {
     "data": {
      "text/plain": [
       "['__builtins__',\n",
       " '__cached__',\n",
       " '__doc__',\n",
       " '__file__',\n",
       " '__loader__',\n",
       " '__name__',\n",
       " '__package__',\n",
       " '__path__',\n",
       " '__spec__',\n",
       " 'avail',\n",
       " 'enso',\n",
       " 'generic_annual_bias_1x1deg',\n",
       " 'generic_section_transport',\n",
       " 'generic_yz_annual_bias_1x1deg',\n",
       " 'heat_transport',\n",
       " 'moc',\n",
       " 'seaice',\n",
       " 'section_transports',\n",
       " 'so_yz_annual_bias_1x1deg',\n",
       " 'sss_annual_bias_1x1deg',\n",
       " 'sst_annual_bias_1x1deg',\n",
       " 'thetao_yz_annual_bias_1x1deg']"
      ]
     },
     "execution_count": 2,
     "metadata": {},
     "output_type": "execute_result"
    }
   ],
   "source": [
    "dir(om4labs.diags)"
   ]
  },
  {
   "cell_type": "markdown",
   "id": "d49c7d4c-ad2b-473c-aa03-9fefe49366b9",
   "metadata": {},
   "source": [
    "### OM4-lab construction of a dictionary \n",
    "\n",
    "- outdir  = output dir\n",
    "\n",
    "- static = static file\n",
    "\n",
    "- infile = netcdf data to be read\n",
    "\n",
    "- topog = topography file (static file)\n",
    "\n",
    "- hgrid = supergrid\n",
    "\n",
    "- interactive = True (if using notebook)\n",
    "\n",
    "- format = None, png, etc\n",
    "\n",
    "- label = name of the run"
   ]
  },
  {
   "cell_type": "code",
   "execution_count": 3,
   "id": "7c3f5778-383f-4914-96c7-5f41a954a277",
   "metadata": {},
   "outputs": [
    {
     "name": "stdout",
     "output_type": "stream",
     "text": [
      "usage: enso.py [-h] [-l LABEL] [-o OUTDIR] [-i] [-v] [-S SUPTITLE] [-f FORMAT]\n",
      "               [-s STATIC] [--platform PLATFORM] [--obsfile OBSFILE]\n",
      "               [--varname VARNAME]\n",
      "               INFILE [INFILE ...]\n",
      "\n",
      " \n",
      "\n",
      "positional arguments:\n",
      "  INFILE                Path to input NetCDF file(s)\n",
      "\n",
      "optional arguments:\n",
      "  -h, --help            show this help message and exit\n",
      "  -l LABEL, --label LABEL\n",
      "                        String label to annotate the plot\n",
      "  -o OUTDIR, --outdir OUTDIR\n",
      "                        Output directory. Default is current directory\n",
      "  -i, --interactive     Interactive mode displays plot to screen. Default is False\n",
      "  -v, --verbose         Verbose output\n",
      "  -S SUPTITLE, --suptitle SUPTITLE\n",
      "                        Super-title for annotating figures\n",
      "  -f FORMAT, --format FORMAT\n",
      "                        Output format for plots. Default is png\n",
      "  -s STATIC, --static STATIC\n",
      "                        Path to ocean.static.nc file\n",
      "  --platform PLATFORM   Computing platform, default is gfdl\n",
      "  --obsfile OBSFILE     Path to observational dataset file\n",
      "  --varname VARNAME     Variable to analyze. Default is tos.\n"
     ]
    }
   ],
   "source": [
    "!/glade/u/home/gmarques/libs/om4labs/om4labs/diags/enso/enso.py -h"
   ]
  },
  {
   "cell_type": "code",
   "execution_count": 18,
   "id": "2403a68f-da28-471f-adec-d2a88cc58f8b",
   "metadata": {},
   "outputs": [],
   "source": [
    "path = '/glade/scratch/gmarques/OM4_025_JRA/'\n",
    "obs = '/glade/u/home/gmarques/Notebooks/CESM_MOM6/WOA18_remapping/WOA18_TEMP_tx0.66v1_34lev_ann_avg.nc'\n",
    "dict_om4 = dict(static=path+'20180101.ocean_static.nc',\n",
    "               outdir='./',\n",
    "               infile=path+'20??????.ocean_annual.nc',\n",
    "               topog=path+'20180101.ocean_static.nc',\n",
    "               interactive=True,\n",
    "               hgrid=path+'INPUT/ocean_hgrid.nc',\n",
    "               label='OM4_025',\n",
    "               varname='tos',\n",
    "               obsfile=None,\n",
    "               platform='ncar', \n",
    "               format= None #'inline'\n",
    "               )\n",
    "#dict_om4"
   ]
  },
  {
   "cell_type": "code",
   "execution_count": 19,
   "id": "16b9b523-4b0f-4961-b3af-1ccfade0252f",
   "metadata": {},
   "outputs": [
    {
     "ename": "KeyError",
     "evalue": "'wavelet_NOAA_ERSST_v5_1957_2002'",
     "output_type": "error",
     "traceback": [
      "\u001b[0;31m---------------------------------------------------------------------------\u001b[0m",
      "\u001b[0;31mKeyError\u001b[0m                                  Traceback (most recent call last)",
      "\u001b[0;32m/glade/scratch/gmarques/ipykernel_241695/2993923130.py\u001b[0m in \u001b[0;36m<module>\u001b[0;34m\u001b[0m\n\u001b[1;32m      1\u001b[0m \u001b[0mget_ipython\u001b[0m\u001b[0;34m(\u001b[0m\u001b[0;34m)\u001b[0m\u001b[0;34m.\u001b[0m\u001b[0mrun_line_magic\u001b[0m\u001b[0;34m(\u001b[0m\u001b[0;34m'matplotlib'\u001b[0m\u001b[0;34m,\u001b[0m \u001b[0;34m'inline'\u001b[0m\u001b[0;34m)\u001b[0m\u001b[0;34m\u001b[0m\u001b[0;34m\u001b[0m\u001b[0m\n\u001b[0;32m----> 2\u001b[0;31m \u001b[0mfigs\u001b[0m \u001b[0;34m=\u001b[0m \u001b[0mom4labs\u001b[0m\u001b[0;34m.\u001b[0m\u001b[0mdiags\u001b[0m\u001b[0;34m.\u001b[0m\u001b[0menso\u001b[0m\u001b[0;34m.\u001b[0m\u001b[0mrun\u001b[0m\u001b[0;34m(\u001b[0m\u001b[0mdict_om4\u001b[0m\u001b[0;34m)\u001b[0m\u001b[0;34m\u001b[0m\u001b[0;34m\u001b[0m\u001b[0m\n\u001b[0m\u001b[1;32m      3\u001b[0m \u001b[0mplt\u001b[0m\u001b[0;34m.\u001b[0m\u001b[0mshow\u001b[0m\u001b[0;34m(\u001b[0m\u001b[0;34m)\u001b[0m\u001b[0;34m\u001b[0m\u001b[0;34m\u001b[0m\u001b[0m\n",
      "\u001b[0;32m~/libs/om4labs/om4labs/diags/enso/enso.py\u001b[0m in \u001b[0;36mrun\u001b[0;34m(dictArgs)\u001b[0m\n\u001b[1;32m    212\u001b[0m \u001b[0;34m\u001b[0m\u001b[0m\n\u001b[1;32m    213\u001b[0m     \u001b[0;31m# read in data\u001b[0m\u001b[0;34m\u001b[0m\u001b[0;34m\u001b[0m\u001b[0;34m\u001b[0m\u001b[0m\n\u001b[0;32m--> 214\u001b[0;31m     \u001b[0marray\u001b[0m\u001b[0;34m,\u001b[0m \u001b[0mareacello\u001b[0m\u001b[0;34m,\u001b[0m \u001b[0mreference\u001b[0m \u001b[0;34m=\u001b[0m \u001b[0mread\u001b[0m\u001b[0;34m(\u001b[0m\u001b[0mdictArgs\u001b[0m\u001b[0;34m)\u001b[0m\u001b[0;34m\u001b[0m\u001b[0;34m\u001b[0m\u001b[0m\n\u001b[0m\u001b[1;32m    215\u001b[0m \u001b[0;34m\u001b[0m\u001b[0m\n\u001b[1;32m    216\u001b[0m     \u001b[0;31m# calculate otsfn\u001b[0m\u001b[0;34m\u001b[0m\u001b[0;34m\u001b[0m\u001b[0;34m\u001b[0m\u001b[0m\n",
      "\u001b[0;32m~/libs/om4labs/om4labs/diags/enso/enso.py\u001b[0m in \u001b[0;36mread\u001b[0;34m(dictArgs)\u001b[0m\n\u001b[1;32m    107\u001b[0m \u001b[0;34m\u001b[0m\u001b[0m\n\u001b[1;32m    108\u001b[0m         \u001b[0;31m# open reference datasets\u001b[0m\u001b[0;34m\u001b[0m\u001b[0;34m\u001b[0m\u001b[0;34m\u001b[0m\u001b[0m\n\u001b[0;32m--> 109\u001b[0;31m         \u001b[0mref1\u001b[0m \u001b[0;34m=\u001b[0m \u001b[0mcat\u001b[0m\u001b[0;34m[\u001b[0m\u001b[0;34m\"wavelet_NOAA_ERSST_v5_1957_2002\"\u001b[0m\u001b[0;34m]\u001b[0m\u001b[0;34m.\u001b[0m\u001b[0mto_dask\u001b[0m\u001b[0;34m(\u001b[0m\u001b[0;34m)\u001b[0m\u001b[0;34m\u001b[0m\u001b[0;34m\u001b[0m\u001b[0m\n\u001b[0m\u001b[1;32m    110\u001b[0m         \u001b[0mref2\u001b[0m \u001b[0;34m=\u001b[0m \u001b[0mcat\u001b[0m\u001b[0;34m[\u001b[0m\u001b[0;34m\"wavelet_NOAA_ERSST_v5_1880_2019\"\u001b[0m\u001b[0;34m]\u001b[0m\u001b[0;34m.\u001b[0m\u001b[0mto_dask\u001b[0m\u001b[0;34m(\u001b[0m\u001b[0;34m)\u001b[0m\u001b[0;34m\u001b[0m\u001b[0;34m\u001b[0m\u001b[0m\n\u001b[1;32m    111\u001b[0m \u001b[0;34m\u001b[0m\u001b[0m\n",
      "\u001b[0;32m/glade/work/gmarques/miniconda/envs/om4labs/lib/python3.8/site-packages/intake/catalog/base.py\u001b[0m in \u001b[0;36m__getitem__\u001b[0;34m(self, key)\u001b[0m\n\u001b[1;32m    421\u001b[0m                 \u001b[0mout\u001b[0m \u001b[0;34m=\u001b[0m \u001b[0mout\u001b[0m\u001b[0;34m[\u001b[0m\u001b[0mpart\u001b[0m\u001b[0;34m]\u001b[0m\u001b[0;34m\u001b[0m\u001b[0;34m\u001b[0m\u001b[0m\n\u001b[1;32m    422\u001b[0m             \u001b[0;32mreturn\u001b[0m \u001b[0mout\u001b[0m\u001b[0;34m(\u001b[0m\u001b[0;34m)\u001b[0m\u001b[0;34m\u001b[0m\u001b[0;34m\u001b[0m\u001b[0m\n\u001b[0;32m--> 423\u001b[0;31m         \u001b[0;32mraise\u001b[0m \u001b[0mKeyError\u001b[0m\u001b[0;34m(\u001b[0m\u001b[0mkey\u001b[0m\u001b[0;34m)\u001b[0m\u001b[0;34m\u001b[0m\u001b[0;34m\u001b[0m\u001b[0m\n\u001b[0m\u001b[1;32m    424\u001b[0m \u001b[0;34m\u001b[0m\u001b[0m\n\u001b[1;32m    425\u001b[0m     \u001b[0;32mdef\u001b[0m \u001b[0mdiscover\u001b[0m\u001b[0;34m(\u001b[0m\u001b[0mself\u001b[0m\u001b[0;34m)\u001b[0m\u001b[0;34m:\u001b[0m\u001b[0;34m\u001b[0m\u001b[0;34m\u001b[0m\u001b[0m\n",
      "\u001b[0;31mKeyError\u001b[0m: 'wavelet_NOAA_ERSST_v5_1957_2002'"
     ]
    }
   ],
   "source": [
    "%matplotlib inline\n",
    "figs = om4labs.diags.enso.run(dict_om4) \n",
    "plt.show()"
   ]
  },
  {
   "cell_type": "code",
   "execution_count": 17,
   "id": "b912e4fe-d58d-4ea6-b297-00a20522df58",
   "metadata": {},
   "outputs": [],
   "source": [
    "#om4labs.om4parser.default_diag_parser(template=True)"
   ]
  },
  {
   "cell_type": "code",
   "execution_count": null,
   "id": "a44ce968-5c4c-40c0-944f-faacc4918f7d",
   "metadata": {},
   "outputs": [],
   "source": []
  }
 ],
 "metadata": {
  "kernelspec": {
   "display_name": "Python [conda env:miniconda-om4labs]",
   "language": "python",
   "name": "conda-env-miniconda-om4labs-py"
  },
  "language_info": {
   "codemirror_mode": {
    "name": "ipython",
    "version": 3
   },
   "file_extension": ".py",
   "mimetype": "text/x-python",
   "name": "python",
   "nbconvert_exporter": "python",
   "pygments_lexer": "ipython3",
   "version": "3.8.12"
  }
 },
 "nbformat": 4,
 "nbformat_minor": 5
}
