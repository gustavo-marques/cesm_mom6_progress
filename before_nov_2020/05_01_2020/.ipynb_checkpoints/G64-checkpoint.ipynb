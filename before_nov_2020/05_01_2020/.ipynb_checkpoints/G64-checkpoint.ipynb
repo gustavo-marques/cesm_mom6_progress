{
 "cells": [
  {
   "cell_type": "markdown",
   "metadata": {
    "slideshow": {
     "slide_type": "fragment"
    }
   },
   "source": [
    "# Case g.c2b6.GJRA.TL319_t061.long_JRA_mct.064 \n",
    "\n",
    "Compset longname is 2000_DATM%JRA_SLND_CICE_MOM6_DROF%JRA_SGLC_SWAV_SIAC_SESP\n",
    "\n",
    "* AH=1E12\n",
    "* LEITH_AH = True\n",
    "* LEITH_BI_CONST = 128.0\n",
    "* MEKE = True\n",
    "* MEKE_VISCOSITY_COEFF_AU = 0.0\n",
    "* MEKE_GEOMETRIC_ALPHA = 0.0725\n",
    "\n",
    "Gustavo Marques (gmarques@ucar.edu)"
   ]
  },
  {
   "cell_type": "code",
   "execution_count": 1,
   "metadata": {},
   "outputs": [
    {
     "name": "stdout",
     "output_type": "stream",
     "text": [
      "Last update: 2020-05-12\n"
     ]
    }
   ],
   "source": [
    "from datetime import date\n",
    "print(\"Last update:\", date.today())"
   ]
  },
  {
   "cell_type": "markdown",
   "metadata": {
    "slideshow": {
     "slide_type": "slide"
    }
   },
   "source": [
    "## Globally-averaged ocean properties"
   ]
  },
  {
   "cell_type": "code",
   "execution_count": 2,
   "metadata": {},
   "outputs": [],
   "source": [
    "import xarray as xr\n",
    "import pandas as pd\n",
    "import numpy as np\n",
    "import matplotlib.pyplot as plt\n",
    "import warnings\n",
    "warnings.filterwarnings(\"ignore\")\n",
    "%matplotlib inline"
   ]
  },
  {
   "cell_type": "code",
   "execution_count": 3,
   "metadata": {
    "slideshow": {
     "slide_type": "skip"
    }
   },
   "outputs": [],
   "source": [
    "path = '/glade/scratch/gmarques/'\n",
    "exps = ['g.c2b6.GJRA.TL319_t061.long_JRA_mct.064']\n",
    "labels = ['G64']\n",
    "\n",
    "def get_data(full_path, variables):\n",
    "  def preprocess(ds):\n",
    "    ''' Return the dataset with variable'''\n",
    "    return ds[variables]\n",
    "  ds = xr.open_mfdataset(full_path, data_vars='minimal', \\\n",
    "                         coords='minimal', compat='override', preprocess=preprocess)\n",
    "  return ds\n",
    "\n",
    "import seaborn, matplotlib\n",
    "matplotlib.rcParams.update({'font.size': 14})"
   ]
  },
  {
   "cell_type": "code",
   "execution_count": 4,
   "metadata": {},
   "outputs": [
    {
     "name": "stdout",
     "output_type": "stream",
     "text": [
      "Basemap module not found. Some regional plots may not function properly\n"
     ]
    },
    {
     "name": "stderr",
     "output_type": "stream",
     "text": [
      "Cannot write to data cache '/glade/p/cesmdata/cseg'. Will not be able to download remote data files. Use environment variable 'CESMDATAROOT' to specify another directory.\n"
     ]
    },
    {
     "name": "stdout",
     "output_type": "stream",
     "text": [
      "MOM6 grid successfully loaded... \n",
      "\n",
      "11.16427964664149 64.78854837178643 [391, 434]\n"
     ]
    }
   ],
   "source": [
    "# load pre-difined masks\n",
    "from mom6_tools.MOM6grid import MOM6grid\n",
    "from mom6_tools.m6toolbox import genBasinMasks\n",
    "from mom6_tools.m6plot import ztplot, polarplot, xyplot, xycompare, yzplot\n",
    "import pop_tools\n",
    "import cartopy.crs as ccrs\n",
    "import cartopy.feature\n",
    "grd = MOM6grid('/glade/scratch/gmarques/'+str(exps[0])+'/run/'+str(exps[0])+'.mom6.static.nc')\n",
    "depth = grd.depth_ocean\n",
    "# remote Nan's, otherwise genBasinMasks won't work\n",
    "depth[np.isnan(depth)] = 0.0\n",
    "basin_code = genBasinMasks(grd.geolon, grd.geolat, depth, xda=True)\n",
    "grid = pop_tools.get_grid('POP_gx1v7')"
   ]
  },
  {
   "cell_type": "code",
   "execution_count": null,
   "metadata": {
    "slideshow": {
     "slide_type": "subslide"
    }
   },
   "outputs": [
    {
     "name": "stdout",
     "output_type": "stream",
     "text": [
      "/glade/scratch/gmarques/g.c2b6.GJRA.TL319_t061.long_JRA_mct.064/run/*mom6.hm_*_01.nc\n"
     ]
    }
   ],
   "source": [
    "%matplotlib inline\n",
    "fig, ax = plt.subplots(nrows=1, ncols=2, figsize=(18,6))\n",
    "variables = ['thetaoga', 'soga']\n",
    "for i in range(len(exps)):\n",
    "  # reading just January data\n",
    "  tmp = path+exps[i]+'/run/*mom6.hm_*_01.nc'\n",
    "  print(tmp)\n",
    "  ds = get_data(tmp,variables)\n",
    "  ds1 = ds.sel(time=slice('0001-01-01', '0059-01-01'))\n",
    "  ds1['thetaoga'].plot(ax=ax[0], label=labels[i], lw=3)\n",
    "  ds1['soga'].plot(ax=ax[1], lw=3)\n",
    "\n",
    "ax[0].set_title(ds1.thetaoga.attrs['long_name']); ax[0].set_ylabel(ds1.thetaoga.attrs['units'])\n",
    "ax[1].set_title(ds1.soga.attrs['long_name']); ax[1].set_ylabel(ds1.soga.attrs['units']); ax[0].legend()"
   ]
  },
  {
   "cell_type": "code",
   "execution_count": null,
   "metadata": {},
   "outputs": [],
   "source": [
    "plt.rcParams.update({'font.size': 15})\n",
    "variables = ['APE', 'KE', 'Salt', 'Heat', 'age']\n",
    "fig, ax = plt.subplots(nrows=len(variables), ncols=1, figsize=(10,10), sharex=True)\n",
    "for i in range(len(exps)): \n",
    "  path_to_file = path+exps[i]+'/run/ocean.stats.nc'\n",
    "  print(path_to_file)\n",
    "  ds = xr.open_dataset(path_to_file)\n",
    "  time = pd.date_range('1900-01-01', periods=len(ds.Time), freq='D')\n",
    "\n",
    "  ds['Time'] = time[:]  \n",
    "  ds1 = ds.resample(Time=\"1Y\", closed='left', keep_attrs=True).mean(dim='Time', keep_attrs=True)   \n",
    "  ds2 = ds1.sel(Time=slice('1900-01-01', '1980-01-01'))\n",
    "  for var, j in zip(variables, range(len(variables))):\n",
    "    if len(ds2[var].shape) > 1:\n",
    "        tmp = ds2[var].sum(axis=1)\n",
    "    else:\n",
    "        tmp = ds2[var]\n",
    "    tmp.plot(ax=ax[j], label=labels[i], lw=2)\n",
    "    ax[j].set_xlabel('')\n",
    "    \n",
    "ax[j].set_xlabel('Time'); ax[j].legend()"
   ]
  },
  {
   "cell_type": "markdown",
   "metadata": {
    "slideshow": {
     "slide_type": "slide"
    }
   },
   "source": [
    "## Mixed layer depth"
   ]
  },
  {
   "cell_type": "code",
   "execution_count": null,
   "metadata": {},
   "outputs": [],
   "source": [
    "filepath = '/glade/work/gmarques/cesm/datasets/MLD/deBoyer/deBoyer_MLD_remapped_to_tx06v1.nc'\n",
    "print('\\n Reading climatology from: ', filepath)\n",
    "mld_obs = xr.open_dataset(filepath)\n",
    "months = [0,1,2]\n",
    "obs_JFM = np.ma.masked_invalid(mld_obs.mld.isel(time=months).mean('time').values)\n",
    "months = [6,7,8]\n",
    "obs_JAS = np.ma.masked_invalid(mld_obs.mld.isel(time=months).mean('time').values)\n",
    "obs_winter = obs_JAS.copy(); obs_summer = obs_JAS.copy()\n",
    "j = np.abs( grd.geolat[:,0] - 0. ).argmin()\n",
    "obs_winter[j::,:] = obs_JFM[j::,:]\n",
    "obs_summer[0:j,:] = obs_JFM[0:j,:]\n",
    "\n",
    "bbox_props = dict(boxstyle=\"round\", fc=\"w\", ec=\"0.5\", alpha=0.9)\n",
    "def add_labels(ax, nh='JFM', sh='JAS'):\n",
    "    ax.plot([grd.geolon[0,0], grd.geolon[0,-1]], [0,0], 'k--', lw=0.5)\n",
    "    ax.text(25, 7, nh, ha=\"center\", va=\"center\", size=12, bbox=bbox_props)\n",
    "    ax.text(25, -7, sh, ha=\"center\", va=\"center\", size=12, bbox=bbox_props)"
   ]
  },
  {
   "cell_type": "code",
   "execution_count": null,
   "metadata": {},
   "outputs": [],
   "source": [
    "%matplotlib inline\n",
    "fig, ax = plt.subplots(nrows=1, ncols=2, figsize=(16,5), sharex=True, sharey=True)\n",
    "ax1 = ax.flatten()\n",
    "plt.suptitle('Mean Winter MLD, JFM(NH), JAS(SH)')\n",
    "for i in range(len(exps)):\n",
    "  ds = xr.open_dataset('../../'+exps[i]+'/ncfiles/'+exps[i]+'_MLD_winter.nc')\n",
    "  if i == 0:\n",
    "   control = np.ma.masked_invalid(ds.MLD_winter.values)\n",
    "   xyplot(control, grd.geolon, grd.geolat, grd.area_t, title=str(labels[i]), axis=ax1[i], clim=(0,1500), nbins=100,\n",
    "         colormap=plt.cm.nipy_spectral); add_labels(ax1[i])\n",
    "  else:\n",
    "   var = np.ma.masked_invalid(ds.MLD_winter.values) \n",
    "   xyplot(var, grd.geolon, grd.geolat, grd.area_t, title=str(labels[i]), axis=ax1[i+1], clim=(0,1500),\n",
    "         colormap=plt.cm.nipy_spectral, nbins=100); add_labels(ax1[i+1])\n",
    "\n",
    "xyplot(obs_winter, grd.geolon, grd.geolat, grd.area_t, title='deBoyer', axis=ax1[1], clim=(0,1500), nbins=100,\n",
    "       colormap=plt.cm.nipy_spectral); add_labels(ax1[1])"
   ]
  },
  {
   "cell_type": "code",
   "execution_count": null,
   "metadata": {},
   "outputs": [],
   "source": [
    "fig, ax = plt.subplots(nrows=1, ncols=2, figsize=(16,5), sharex=True, sharey=True)\n",
    "ax1 = ax.flatten()\n",
    "plt.suptitle('Mean Summer MLD, JFM(SH), JAS(NH)')\n",
    "for i in range(len(exps)):\n",
    "  ds = xr.open_dataset('../../'+exps[i]+'/ncfiles/'+exps[i]+'_MLD_summer.nc')\n",
    "  if i == 0:\n",
    "   control = np.ma.masked_invalid(ds.MLD_summer.values)\n",
    "   xyplot(control, grd.geolon, grd.geolat, grd.area_t, title=str(labels[i]), axis=ax1[i], clim=(0,200), nbins=100,\n",
    "         colormap=plt.cm.nipy_spectral); add_labels(ax1[i], sh='JFM', nh='JAS')\n",
    "  else:\n",
    "   var = np.ma.masked_invalid(ds.MLD_summer.values) \n",
    "   xyplot(var, grd.geolon, grd.geolat, grd.area_t, title=str(labels[i]), axis=ax1[i+1], clim=(0,200), nbins=100,\n",
    "         colormap=plt.cm.nipy_spectral); add_labels(ax1[i+1], sh='JFM', nh='JAS')\n",
    "\n",
    "xyplot(obs_summer, grd.geolon, grd.geolat, grd.area_t, title='deBoyer', axis=ax1[1], clim=(0,200), nbins=100,\n",
    "       colormap=plt.cm.nipy_spectral); add_labels(ax1[1], sh='JFM', nh='JAS')"
   ]
  },
  {
   "cell_type": "markdown",
   "metadata": {
    "slideshow": {
     "slide_type": "skip"
    }
   },
   "source": [
    "## Poleward Heat Transport"
   ]
  },
  {
   "cell_type": "markdown",
   "metadata": {},
   "source": [
    "</center>\n",
    "<table>\n",
    "<tr>\n",
    "<td><img  src='../figures/g.c2b6.GJRA.TL319_t061.long_JRA_mct.064_HeatTransport_global.png'></td>\n",
    "</tr><tr>\n",
    "<td><img  src='../figures/g.c2b6.GJRA.TL319_t061.long_JRA_mct.064_HeatTransport_Atlantic.png'></td>\n",
    "</tr><tr>\n",
    "<td><img  src='../figures/g.c2b6.GJRA.TL319_t061.long_JRA_mct.064_HeatTransport_IndoPacific.png'></td>\n",
    "</tr>\n",
    "</table>\n"
   ]
  },
  {
   "cell_type": "markdown",
   "metadata": {
    "slideshow": {
     "slide_type": "slide"
    }
   },
   "source": [
    "## Meridional Overturning Circulation"
   ]
  },
  {
   "cell_type": "markdown",
   "metadata": {
    "slideshow": {
     "slide_type": "fragment"
    }
   },
   "source": [
    "<center> <font size=\"4\">Global</font>\n",
    " </center>\n",
    "<table><tr><td><img  src='../figures/g.c2b6.GJRA.TL319_t061.long_JRA_mct.064_MOC_global.png'></td>\n",
    "</tr>\n",
    "</table>"
   ]
  },
  {
   "cell_type": "markdown",
   "metadata": {
    "slideshow": {
     "slide_type": "subslide"
    }
   },
   "source": [
    "<center> <font size=\"4\">Atlantic</font></center>\n",
    "<table><tr><td><img  src='../figures/g.c2b6.GJRA.TL319_t061.long_JRA_mct.064_MOC_Atlantic.png'></td>\n",
    "</tr>\n",
    "</table>"
   ]
  },
  {
   "cell_type": "markdown",
   "metadata": {},
   "source": [
    "<center> <font size=\"4\">Global GM and FFH</font></center>\n",
    "<table><tr>\n",
    "<td><img  src='../figures/g.c2b6.GJRA.TL319_t061.long_JRA_mct.064_GM_MOC_global.png'></td>\n",
    "<td><img  src='../figures/g.c2b6.GJRA.TL319_t061.long_JRA_mct.064_FFH_MOC_global.png'></td>\n",
    "</tr>\n",
    "</table>"
   ]
  },
  {
   "cell_type": "markdown",
   "metadata": {},
   "source": [
    "#### Profile @ 26N"
   ]
  },
  {
   "cell_type": "markdown",
   "metadata": {},
   "source": [
    "<table>\n",
    "    <tr>\n",
    "    <td><img   src='../figures/g.c2b6.GJRA.TL319_t061.long_JRA_mct.064_MOC_profile_26N.png'></td>\n",
    "    </tr>   \n",
    "</table>"
   ]
  },
  {
   "cell_type": "markdown",
   "metadata": {},
   "source": [
    "#### MOC GM time series between -65 and -30 degN"
   ]
  },
  {
   "cell_type": "code",
   "execution_count": null,
   "metadata": {},
   "outputs": [],
   "source": [
    "gm_moc = xr.open_dataset('../../'+exps[0]+'/ncfiles/'+exps[0]+'_MOC_GM_time_series.nc').rename({'__xarray_dataarray_variable__':'MOC'})\n",
    "fig, ax = plt.subplots(nrows=1, ncols=1, figsize=(8,4))\n",
    "gm_moc.MOC.plot(ax=ax)\n",
    "ax.set_ylabel('MOC [Sv]')\n",
    "ax.set_title(' MOC GM, extreme value between -65 and -30 degN')"
   ]
  },
  {
   "cell_type": "markdown",
   "metadata": {
    "slideshow": {
     "slide_type": "skip"
    }
   },
   "source": [
    "#### AMOC time series @ 26N and 45N"
   ]
  },
  {
   "cell_type": "markdown",
   "metadata": {},
   "source": [
    "<table>\n",
    "    <tr>\n",
    "    <td><img  src='../figures/g.c2b6.GJRA.TL319_t061.long_JRA_mct.064_MOC_26N_time_series.png'></td>\n",
    "    </tr>\n",
    "    <tr>\n",
    "    <td><img  src='../figures/g.c2b6.GJRA.TL319_t061.long_JRA_mct.064_MOC_45N_time_series.png'></td>\n",
    "    </tr>    \n",
    "</table>"
   ]
  },
  {
   "cell_type": "markdown",
   "metadata": {
    "slideshow": {
     "slide_type": "slide"
    }
   },
   "source": [
    "## Transports"
   ]
  },
  {
   "cell_type": "markdown",
   "metadata": {},
   "source": [
    "<table>\n",
    "    <tr>\n",
    "    <td><img src='../figures/g.c2b6.GJRA.TL319_t061.long_JRA_mct.064_section_transports.png'></td>\n",
    "    </tr>  \n",
    "</table>"
   ]
  },
  {
   "cell_type": "markdown",
   "metadata": {
    "toc-hr-collapsed": true
   },
   "source": [
    "## T/S bias at selected vertical levels"
   ]
  },
  {
   "cell_type": "code",
   "execution_count": null,
   "metadata": {},
   "outputs": [],
   "source": [
    "# load PHC2 data\n",
    "phc_path = '/glade/p/cesm/omwg/obs_data/phc/'\n",
    "phc_temp_mom = xr.open_mfdataset(phc_path+'PHC2_TEMP_tx0.66v1_34lev_ann_avg.nc', \n",
    "                             decode_coords=False, decode_times=False)\n",
    "phc_salt_mom = xr.open_mfdataset(phc_path+'PHC2_SALT_tx0.66v1_34lev_ann_avg.nc', \n",
    "                             decode_coords=False, decode_times=False)\n",
    "\n",
    "phc_temp_pop = xr.open_dataset(phc_path+'PHC2_TEMP_gx1v7_60lev_ann_avg.nc', \n",
    "                             decode_coords=False, decode_times=False)\n",
    "phc_salt_pop = xr.open_dataset(phc_path+'PHC2_SALT_gx1v7_60lev_ann_avg.nc', \n",
    "                             decode_coords=False, decode_times=False)"
   ]
  },
  {
   "cell_type": "code",
   "execution_count": null,
   "metadata": {},
   "outputs": [],
   "source": [
    "def find_nearest(array, value):\n",
    "    '''Find nearest value and return its indice'''\n",
    "    array = np.asarray(array)\n",
    "    idx = (np.abs(array - value)).argmin()\n",
    "    return idx"
   ]
  },
  {
   "cell_type": "markdown",
   "metadata": {},
   "source": [
    "#### Temperature"
   ]
  },
  {
   "cell_type": "code",
   "execution_count": null,
   "metadata": {},
   "outputs": [],
   "source": [
    "%matplotlib inline\n",
    "# change k indice to see bias at other depths\n",
    "levels=[0,5,10,15,20,25]\n",
    "ds_mom_t = xr.open_dataset('../../'+exps[0]+'/ncfiles/'+exps[0]+'_thetao_time_mean.nc')\n",
    "ds_pop_t = xr.open_dataset('/glade/scratch/gmarques/g210.GIAF_JRA.v13.gx1v7.01_thetao_time_mean.nc')\n",
    "tlim=[5,7.5,7.5,5,5,5]\n",
    "for k,t in zip(levels,tlim):\n",
    "  kpop =  find_nearest(phc_salt_pop.depth.values,phc_temp_mom.depth[k].values) \n",
    "  fig, ax = plt.subplots(nrows=1, ncols=2, figsize=(18,5.5))\n",
    "  ax1 = ax.flatten()\n",
    "  temp_mom = np.ma.masked_invalid(ds_mom_t.thetao[k,:].values)\n",
    "  temp_mom_obs = np.ma.masked_invalid(phc_temp_mom['TEMP'][k,:].values)\n",
    "  temp_pop = np.ma.masked_invalid(ds_pop_t.thetao[kpop,:].values)\n",
    "  temp_pop_obs = np.ma.masked_invalid(phc_temp_pop['TEMP'][kpop,:].values)\n",
    "  plt.suptitle('Temperature bias [C] at level {} or depth = {} m (mom), {} m (pop)'.format(k, \n",
    "               phc_temp_mom.depth[k].values, phc_temp_pop.depth[kpop].values))\n",
    "  xyplot(temp_mom-temp_mom_obs, grd.geolon, grd.geolat, grd.area_t, title=str(labels[0]+' - obs'), axis=ax1[0], \n",
    "         clim=(-t,t), nbins=100, colormap=plt.cm.bwr, centerlabels=True)\n",
    "  xyplot(temp_pop-temp_pop_obs, title=str('pop - obs'), axis=ax1[1], \n",
    "         clim=(-t,t), nbins=100, colormap=plt.cm.bwr, centerlabels=True)\n"
   ]
  },
  {
   "cell_type": "markdown",
   "metadata": {},
   "source": [
    "#### Salinity"
   ]
  },
  {
   "cell_type": "code",
   "execution_count": null,
   "metadata": {},
   "outputs": [],
   "source": [
    "%matplotlib inline\n",
    "# change k indice to see bias at other depths\n",
    "levels=[0,5,10,15,20,25]\n",
    "ds_mom_s = xr.open_dataset('../../'+exps[0]+'/ncfiles/'+exps[0]+'_so_time_mean.nc')\n",
    "ds_pop_s = xr.open_dataset('/glade/scratch/gmarques/g210.GIAF_JRA.v13.gx1v7.01_so_time_mean.nc')\n",
    "slim=[5,3,1.5,1.5,1,1]\n",
    "for k,s in zip(levels,slim):\n",
    "  kpop =  find_nearest(phc_salt_pop.depth.values,phc_temp_mom.depth[k].values)  \n",
    "  fig, ax = plt.subplots(nrows=1, ncols=2, figsize=(18,5.5))\n",
    "  ax1 = ax.flatten()\n",
    "  salt_mom = np.ma.masked_invalid(ds_mom_s.so[k,:].values)\n",
    "  salt_mom_obs = np.ma.masked_invalid(phc_salt_mom['SALT'][k,:].values)\n",
    "  salt_pop = np.ma.masked_invalid(ds_pop_s.so[kpop,:].values)\n",
    "  salt_pop_obs = np.ma.masked_invalid(phc_salt_pop['SALT'][kpop,:].values)\n",
    "  plt.suptitle('Salinity bias [psu] at level {} or depth = {} m (mom), {} m (pop)'.format(k, \n",
    "               phc_salt_mom.depth[k].values, phc_salt_pop.depth[kpop].values))\n",
    "  xyplot(salt_mom-salt_mom_obs, grd.geolon, grd.geolat, grd.area_t, title=str(labels[0]+' - obs'), axis=ax1[0], \n",
    "         clim=(-s,s), nbins=50, colormap=plt.cm.bwr, centerlabels=True)\n",
    "  xyplot(salt_pop-salt_pop_obs, title=str('pop - obs'), axis=ax1[1], \n",
    "         clim=(-s,s), nbins=50, colormap=plt.cm.bwr, centerlabels=True)"
   ]
  },
  {
   "cell_type": "markdown",
   "metadata": {},
   "source": [
    "# Zonally averaged T/S Bias  "
   ]
  },
  {
   "cell_type": "markdown",
   "metadata": {},
   "source": [
    "### Global"
   ]
  },
  {
   "cell_type": "code",
   "execution_count": null,
   "metadata": {},
   "outputs": [],
   "source": [
    "# POP\n",
    "# reconstruct interfaces\n",
    "elev_pop = np.concatenate([0,np.diff(ds_pop_t.z_l/100.).cumsum(),6000.], axis=None)\n",
    "[_, z_pop] = np.meshgrid(grid.TLAT.mean('nlon').values, -elev_pop)\n",
    "pop_temp_bias = xr.DataArray((ds_pop_t.thetao.values) - (phc_temp_pop.TEMP.values), dims=('z_l', 'yh','xh'), \n",
    "                             coords={'z_l':ds_pop_t.z_l, 'yh': ds_pop_t.yh, 'xh':ds_pop_t.xh})\n",
    "pop_salt_bias = xr.DataArray((ds_pop_s.so.values) - (phc_salt_pop.SALT.values), dims=('z_l', 'yh','xh'), \n",
    "                             coords={'z_l':ds_pop_t.z_l, 'yh': ds_pop_t.yh, 'xh':ds_pop_t.xh})\n",
    "area_pop = grid.TAREA.where(grid.KMT > 0).rename({'nlat':'yh', 'nlon':'xh'})"
   ]
  },
  {
   "cell_type": "code",
   "execution_count": null,
   "metadata": {},
   "outputs": [],
   "source": [
    "# MOM\n",
    "# reconstruct interfaces\n",
    "elev_mom = np.concatenate([0,np.diff(ds_mom_t.z_l).cumsum(),6000.], axis=None)\n",
    "[_, z_mom] = np.meshgrid(ds_mom_t.yh.values, -elev_mom)\n",
    "\n",
    "mom_temp_bias = xr.DataArray((ds_mom_t.thetao.values) - (phc_temp_mom.TEMP.values), dims=('z_l', 'yh','xh'), \n",
    "                             coords={'z_l':ds_mom_t.z_l, 'yh': ds_mom_t.yh, 'xh':ds_mom_t.xh})\n",
    "mom_salt_bias = xr.DataArray((ds_mom_s.so.values) - (phc_salt_mom.SALT.values), dims=('z_l', 'yh','xh'), \n",
    "                             coords={'z_l':ds_mom_t.z_l, 'yh': ds_mom_t.yh, 'xh':ds_mom_t.xh})\n",
    "area_mom = xr.DataArray(np.ma.masked_where(grd.wet == 0,grd.area_t), dims=('yh','xh'), coords={'yh': ds_mom_t.yh, 'xh':ds_mom_t.xh})"
   ]
  },
  {
   "cell_type": "code",
   "execution_count": null,
   "metadata": {},
   "outputs": [],
   "source": [
    "fig, ax = plt.subplots(nrows=1, ncols=2, figsize=(16,6))\n",
    "ax1 = ax.flatten()\n",
    "plt.suptitle('Global zonally-averaged temperature bias [C]')\n",
    "mom_temp_global = ((mom_temp_bias * area_mom).sum('xh')/area_mom.sum('xh'))\n",
    "pop_temp_global = ((pop_temp_bias * area_pop).sum('xh')/area_pop.sum('xh'))\n",
    "\n",
    "yzplot(np.ma.masked_invalid(mom_temp_global), ds_mom_t.yh.values, z_mom, ylabel='Latitude', yunits='$^o$N', title=str(labels[0]+' - obs'), \n",
    "       axis=ax1[0], nbins=30, colormap=plt.cm.bwr, clim=(-2.5, 2.5), centerlabels=True, splitscale=[0, -1000,-6000]); ax1[0].invert_yaxis()\n",
    "\n",
    "yzplot(np.ma.masked_invalid(pop_temp_global), grid.TLAT.mean('nlon'), z_pop, ylabel='Latitude', yunits='$^o$N', title='POP - obs', axis=ax1[1], \n",
    "       nbins=30, colormap=plt.cm.bwr, clim=(-2.5,2.5), centerlabels=True, splitscale=[0, -1000,-6000]); ax1[1].invert_yaxis()"
   ]
  },
  {
   "cell_type": "code",
   "execution_count": null,
   "metadata": {},
   "outputs": [],
   "source": [
    "fig, ax = plt.subplots(nrows=1, ncols=2, figsize=(16,6))\n",
    "ax1 = ax.flatten()\n",
    "plt.suptitle('Global zonally-averaged salinity bias [psu]')\n",
    "mom_salt_global = ((mom_salt_bias * area_mom).sum('xh')/area_mom.sum('xh'))\n",
    "pop_salt_global = ((pop_salt_bias * area_pop).sum('xh')/area_pop.sum('xh'))\n",
    "\n",
    "yzplot(np.ma.masked_invalid(mom_salt_global), ds_mom_s.yh.values, z_mom, ylabel='Latitude', yunits='$^o$N', title=str(labels[0]+' - obs'), \n",
    "       axis=ax1[0], nbins=30, colormap=plt.cm.bwr, clim=(-0.5, 0.5), centerlabels=True, splitscale=[0, -1000,-6000]); ax1[0].invert_yaxis()\n",
    "yzplot(np.ma.masked_invalid(pop_salt_global), grid.TLAT.mean('nlon'), z_pop, ylabel='Latitude', yunits='$^o$N', title='POP - obs', axis=ax1[1], \n",
    "       nbins=30, colormap=plt.cm.bwr, clim=(-0.5, 0.5), centerlabels=True, splitscale=[0, -1000,-6000]); ax1[1].invert_yaxis()"
   ]
  },
  {
   "cell_type": "markdown",
   "metadata": {},
   "source": [
    "### Atlantic"
   ]
  },
  {
   "cell_type": "code",
   "execution_count": null,
   "metadata": {},
   "outputs": [],
   "source": [
    "# POP\n",
    "# mask #6\n",
    "mask_pop_atl = (grid.REGION_MASK.where(grid.REGION_MASK==6)/6.).rename({'nlon': 'xh','nlat': 'yh'})\n",
    "pop_temp_alt = ((pop_temp_bias * area_pop * mask_pop_atl).sum('xh')/area_pop.sum('xh'))\n",
    "pop_salt_alt = ((pop_salt_bias * area_pop * mask_pop_atl).sum('xh')/area_pop.sum('xh'))\n",
    "\n",
    "# MOM\n",
    "mom_temp_alt = ((basin_code.sel(region='AtlanticOcean')*mom_temp_bias * area_mom).sum('xh')/area_mom.sum('xh'))\n",
    "mom_salt_alt = ((basin_code.sel(region='AtlanticOcean')*mom_salt_bias * area_mom).sum('xh')/area_mom.sum('xh'))"
   ]
  },
  {
   "cell_type": "code",
   "execution_count": null,
   "metadata": {},
   "outputs": [],
   "source": [
    "fig, ax = plt.subplots(nrows=1, ncols=2, figsize=(16,6))\n",
    "ax1 = ax.flatten()\n",
    "plt.suptitle('Zonally-averaged temperature bias in the Atlantic [C]')\n",
    "yzplot(np.ma.masked_invalid(mom_temp_alt.transpose()), ds_mom_t.yh.values, z_mom, ylabel='Latitude', yunits='$^o$N', title=str(labels[0]+' - obs'), \n",
    "       axis=ax1[0], nbins=30, colormap=plt.cm.bwr, clim=(-1, 1), centerlabels=True, splitscale=[0, -1000,-6000])\n",
    "ax1[0].invert_yaxis(); ax1[0].set_xlim(-41,75)\n",
    "yzplot(np.ma.masked_invalid(pop_temp_alt), grid.TLAT.mean('nlon'), z_pop, ylabel='Latitude', yunits='$^o$N', title='POP - obs', axis=ax1[1], \n",
    "       nbins=30, colormap=plt.cm.bwr, clim=(-1,1), centerlabels=True, splitscale=[0, -1000,-6000])\n",
    "ax1[1].invert_yaxis(); ax1[1].set_xlim(-41,75)"
   ]
  },
  {
   "cell_type": "code",
   "execution_count": null,
   "metadata": {},
   "outputs": [],
   "source": [
    "fig, ax = plt.subplots(nrows=1, ncols=2, figsize=(16,6))\n",
    "ax1 = ax.flatten()\n",
    "plt.suptitle('Zonally-averaged salinity bias in the Atlantic [psu]')\n",
    "\n",
    "yzplot(np.ma.masked_invalid(mom_salt_alt.transpose()), ds_mom_t.yh.values, z_mom, ylabel='Latitude', yunits='$^o$N', title=str(labels[0]+' - obs'), \n",
    "       axis=ax1[0], nbins=30, colormap=plt.cm.bwr, clim=(-0.2, 0.2), centerlabels=True, splitscale=[0, -1000,-6000])\n",
    "ax1[0].invert_yaxis(); ax1[0].set_xlim(-41,75)\n",
    "yzplot(np.ma.masked_invalid(pop_salt_alt), grid.TLAT.mean('nlon'), z_pop, ylabel='Latitude', yunits='$^o$N', title='POP - obs', axis=ax1[1], \n",
    "       nbins=30, colormap=plt.cm.bwr, clim=(-0.2, 0.2), centerlabels=True, splitscale=[0, -1000,-6000])\n",
    "ax1[1].invert_yaxis(); ax1[1].set_xlim(-41,75)"
   ]
  },
  {
   "cell_type": "markdown",
   "metadata": {},
   "source": [
    "### Pacific"
   ]
  },
  {
   "cell_type": "code",
   "execution_count": null,
   "metadata": {},
   "outputs": [],
   "source": [
    "# POP\n",
    "# mask #2\n",
    "mask_pop_pac = (grid.REGION_MASK.where(grid.REGION_MASK==2)/2.).rename({'nlon': 'xh','nlat': 'yh'})\n",
    "pop_temp_pac = ((pop_temp_bias * area_pop * mask_pop_pac).sum('xh')/area_pop.sum('xh'))\n",
    "pop_salt_pac = ((pop_salt_bias * area_pop * mask_pop_pac).sum('xh')/area_pop.sum('xh'))\n",
    "\n",
    "# MOM\n",
    "mom_temp_pac = ((basin_code.sel(region='PacificOcean')*mom_temp_bias * area_mom).sum('xh')/area_mom.sum('xh'))\n",
    "mom_salt_pac = ((basin_code.sel(region='PacificOcean')*mom_salt_bias * area_mom).sum('xh')/area_mom.sum('xh'))"
   ]
  },
  {
   "cell_type": "code",
   "execution_count": null,
   "metadata": {},
   "outputs": [],
   "source": [
    "fig, ax = plt.subplots(nrows=1, ncols=2, figsize=(16,6))\n",
    "ax1 = ax.flatten()\n",
    "plt.suptitle('Pacific zonally-averaged temperature bias [C]')\n",
    "yzplot(np.ma.masked_invalid(mom_temp_pac.transpose()), ds_mom_t.yh.values, z_mom, ylabel='Latitude', yunits='$^o$N', title=str(labels[0]+' - obs'), \n",
    "       axis=ax1[0], nbins=30, colormap=plt.cm.bwr, clim=(-1.5, 1.5), centerlabels=True, splitscale=[0, -1000,-6000])\n",
    "ax1[0].invert_yaxis(); ax1[0].set_xlim(-41,62)\n",
    "yzplot(np.ma.masked_invalid(pop_temp_pac), grid.TLAT.mean('nlon'), z_pop, ylabel='Latitude', yunits='$^o$N', title='POP - obs', axis=ax1[1], \n",
    "       nbins=30, colormap=plt.cm.bwr, clim=(-1.5,1.5), centerlabels=True, splitscale=[0, -1000,-6000])\n",
    "ax1[1].invert_yaxis(); ax1[1].set_xlim(-41,62)"
   ]
  },
  {
   "cell_type": "code",
   "execution_count": null,
   "metadata": {},
   "outputs": [],
   "source": [
    "fig, ax = plt.subplots(nrows=1, ncols=2, figsize=(16,6))\n",
    "ax1 = ax.flatten()\n",
    "plt.suptitle('Pacific zonally-averaged salinity bias [psu]')\n",
    "yzplot(np.ma.masked_invalid(mom_salt_pac.transpose()), ds_mom_t.yh.values, z_mom, ylabel='Latitude', yunits='$^o$N', title=str(labels[0]+' - obs'), \n",
    "       axis=ax1[0], nbins=30, colormap=plt.cm.bwr, clim=(-0.25, 0.25), centerlabels=True, splitscale=[0, -1000,-6000])\n",
    "ax1[0].invert_yaxis(); ax1[0].set_xlim(-41,62)\n",
    "yzplot(np.ma.masked_invalid(pop_salt_pac), grid.TLAT.mean('nlon'), z_pop, ylabel='Latitude', yunits='$^o$N', title='POP - obs', axis=ax1[1], \n",
    "       nbins=30, colormap=plt.cm.bwr, clim=(-0.25, 0.25), centerlabels=True, splitscale=[0, -1000,-6000])\n",
    "ax1[1].invert_yaxis(); ax1[1].set_xlim(-41,62)"
   ]
  },
  {
   "cell_type": "markdown",
   "metadata": {},
   "source": [
    "### Southern Ocean"
   ]
  },
  {
   "cell_type": "code",
   "execution_count": null,
   "metadata": {},
   "outputs": [],
   "source": [
    "# POP\n",
    "# mask #1\n",
    "mask_pop_so = (grid.REGION_MASK.where(grid.REGION_MASK==1)).rename({'nlon': 'xh','nlat': 'yh'})\n",
    "pop_temp_so = ((pop_temp_bias * area_pop * mask_pop_so).sum('xh')/area_pop.sum('xh'))\n",
    "pop_salt_so = ((pop_salt_bias * area_pop * mask_pop_so).sum('xh')/area_pop.sum('xh'))\n",
    "\n",
    "# MOM\n",
    "mom_temp_so = ((basin_code.sel(region='SouthernOcean')*mom_temp_bias * area_mom).sum('xh')/area_mom.sum('xh'))\n",
    "mom_salt_so = ((basin_code.sel(region='SouthernOcean')*mom_salt_bias * area_mom).sum('xh')/area_mom.sum('xh'))"
   ]
  },
  {
   "cell_type": "code",
   "execution_count": null,
   "metadata": {},
   "outputs": [],
   "source": [
    "fig, ax = plt.subplots(nrows=1, ncols=2, figsize=(16,6))\n",
    "ax1 = ax.flatten()\n",
    "plt.suptitle('Southern Ocean zonally-averaged temperature bias [C]')\n",
    "yzplot(np.ma.masked_invalid(mom_temp_so.transpose()), ds_mom_t.yh.values, z_mom, ylabel='Latitude', yunits='$^o$N', title=str(labels[0]+' - obs'), \n",
    "       axis=ax1[0], nbins=30, colormap=plt.cm.bwr, clim=(-1.5, 1.5), centerlabels=True, splitscale=[0, -1000,-6000])\n",
    "ax1[0].invert_yaxis(); ax1[0].set_xlim(-75,-32)\n",
    "yzplot(np.ma.masked_invalid(pop_temp_so), grid.TLAT.mean('nlon'), z_pop, ylabel='Latitude', yunits='$^o$N', title='POP - obs', axis=ax1[1], \n",
    "       nbins=30, colormap=plt.cm.bwr, clim=(-1.5,1.5), centerlabels=True, splitscale=[0, -1000,-6000])\n",
    "ax1[1].invert_yaxis(); ax1[1].set_xlim(-75,-32)"
   ]
  },
  {
   "cell_type": "code",
   "execution_count": null,
   "metadata": {},
   "outputs": [],
   "source": [
    "fig, ax = plt.subplots(nrows=1, ncols=2, figsize=(16,6))\n",
    "ax1 = ax.flatten()\n",
    "plt.suptitle('Southern Ocean zonally-averaged salinity bias [psu]')\n",
    "yzplot(np.ma.masked_invalid(mom_salt_so.transpose()), ds_mom_t.yh.values, z_mom, ylabel='Latitude', yunits='$^o$N', title=str(labels[0]+' - obs'), \n",
    "       axis=ax1[0], nbins=30, colormap=plt.cm.bwr, clim=(-0.25, 0.25), centerlabels=True, splitscale=[0, -1000,-6000])\n",
    "ax1[0].invert_yaxis(); ax1[0].set_xlim(-75,-32)\n",
    "yzplot(np.ma.masked_invalid(pop_salt_so), grid.TLAT.mean('nlon'), z_pop, ylabel='Latitude', yunits='$^o$N', title='POP - obs', axis=ax1[1], \n",
    "       nbins=30, colormap=plt.cm.bwr, clim=(-0.25, 0.25), centerlabels=True, splitscale=[0, -1000,-6000])\n",
    "ax1[1].invert_yaxis(); ax1[1].set_xlim(-75,-32)"
   ]
  },
  {
   "cell_type": "markdown",
   "metadata": {},
   "source": [
    "### Indian Ocean"
   ]
  },
  {
   "cell_type": "code",
   "execution_count": null,
   "metadata": {},
   "outputs": [],
   "source": [
    "# POP\n",
    "# mask #3\n",
    "mask_pop_io = (grid.REGION_MASK.where(grid.REGION_MASK==3)/3.).rename({'nlon': 'xh','nlat': 'yh'})\n",
    "pop_temp_io = ((pop_temp_bias * area_pop * mask_pop_io).sum('xh')/area_pop.sum('xh'))\n",
    "pop_salt_io = ((pop_salt_bias * area_pop * mask_pop_io).sum('xh')/area_pop.sum('xh'))\n",
    "\n",
    "# MOM\n",
    "mom_temp_io = ((basin_code.sel(region='IndianOcean')*mom_temp_bias * area_mom).sum('xh')/area_mom.sum('xh'))\n",
    "mom_salt_io = ((basin_code.sel(region='IndianOcean')*mom_salt_bias * area_mom).sum('xh')/area_mom.sum('xh'))"
   ]
  },
  {
   "cell_type": "code",
   "execution_count": null,
   "metadata": {},
   "outputs": [],
   "source": [
    "fig, ax = plt.subplots(nrows=1, ncols=2, figsize=(16,6))\n",
    "ax1 = ax.flatten()\n",
    "plt.suptitle('Indian Ocean zonally-averaged temperature bias [C]')\n",
    "yzplot(np.ma.masked_invalid(mom_temp_io.transpose()), ds_mom_t.yh.values, z_mom, ylabel='Latitude', yunits='$^o$E', title=str(labels[0]+' - obs'), \n",
    "       axis=ax1[0], nbins=30, colormap=plt.cm.bwr, clim=(-0.8, 0.8), centerlabels=True, splitscale=[0, -1000,-3000])\n",
    "ax1[0].invert_yaxis(); ax1[0].set_xlim(-40,30)\n",
    "yzplot(np.ma.masked_invalid(pop_temp_io), grid.TLAT.mean('nlon'), z_pop, ylabel='Latitude', yunits='$^o$E', title='POP - obs', axis=ax1[1], \n",
    "       nbins=30, colormap=plt.cm.bwr, clim=(-0.8, 0.8), centerlabels=True, splitscale=[0, -1000,-3000])\n",
    "ax1[1].invert_yaxis(); ax1[1].set_xlim(-40,30)"
   ]
  },
  {
   "cell_type": "code",
   "execution_count": null,
   "metadata": {},
   "outputs": [],
   "source": [
    "fig, ax = plt.subplots(nrows=1, ncols=2, figsize=(16,6))\n",
    "ax1 = ax.flatten()\n",
    "plt.suptitle('Indian Ocean zonally-averaged salinity bias [psu]')\n",
    "yzplot(np.ma.masked_invalid(mom_salt_io.transpose()), ds_mom_t.yh.values, z_mom, ylabel='Latitude', yunits='$^o$N', title=str(labels[0]+' - obs'), \n",
    "       axis=ax1[0], nbins=30, colormap=plt.cm.bwr, clim=(-0.1, 0.1), centerlabels=True, splitscale=[0, -1000,-3000])\n",
    "ax1[0].invert_yaxis(); ax1[0].set_xlim(-40,30)\n",
    "yzplot(np.ma.masked_invalid(pop_salt_io), grid.TLAT.mean('nlon'), z_pop, ylabel='Latitude', yunits='$^o$N', title='POP - obs', axis=ax1[1], \n",
    "       nbins=30, colormap=plt.cm.bwr, clim=(-0.1, 0.1), centerlabels=True, splitscale=[0, -1000,-3000])\n",
    "ax1[1].invert_yaxis(); ax1[1].set_xlim(-40,30)"
   ]
  },
  {
   "cell_type": "markdown",
   "metadata": {},
   "source": [
    "### Med Sea"
   ]
  },
  {
   "cell_type": "code",
   "execution_count": null,
   "metadata": {},
   "outputs": [],
   "source": [
    "# POP\n",
    "# mask #7\n",
    "mask_pop_med = (grid.REGION_MASK.where(grid.REGION_MASK==7)/7.).rename({'nlon': 'xh','nlat': 'yh'})\n",
    "pop_temp_med = ((pop_temp_bias * area_pop * mask_pop_med).sum('xh')/area_pop.sum('xh'))\n",
    "pop_salt_med = ((pop_salt_bias * area_pop * mask_pop_med).sum('xh')/area_pop.sum('xh'))\n",
    "\n",
    "# MOM\n",
    "mom_temp_med = ((basin_code.sel(region='MedSea')*mom_temp_bias * area_mom).sum('xh')/area_mom.sum('xh'))\n",
    "mom_salt_med = ((basin_code.sel(region='MedSea')*mom_salt_bias * area_mom).sum('xh')/area_mom.sum('xh'))"
   ]
  },
  {
   "cell_type": "code",
   "execution_count": null,
   "metadata": {},
   "outputs": [],
   "source": [
    "fig, ax = plt.subplots(nrows=1, ncols=2, figsize=(16,6))\n",
    "ax1 = ax.flatten()\n",
    "plt.suptitle('Med Sea zonally-averaged temperature bias [C]')\n",
    "yzplot(np.ma.masked_invalid(mom_temp_med.transpose()), ds_mom_t.yh.values, z_mom, ylabel='Latitude', yunits='$^o$E', title=str(labels[0]+' - obs'), \n",
    "       axis=ax1[0], nbins=30, colormap=plt.cm.bwr, clim=(-0.15, 0.15), centerlabels=True, splitscale=[0, -500,-3000])\n",
    "ax1[0].invert_yaxis(); ax1[0].set_xlim(30,48)\n",
    "yzplot(np.ma.masked_invalid(pop_temp_med), grid.TLAT.mean('nlon'), z_pop, ylabel='Latitude', yunits='$^o$E', title='POP - obs', axis=ax1[1], \n",
    "       nbins=30, colormap=plt.cm.bwr, clim=(-0.15, 0.15), centerlabels=True, splitscale=[0, -500,-3000])\n",
    "ax1[1].invert_yaxis(); ax1[1].set_xlim(30,48)"
   ]
  },
  {
   "cell_type": "code",
   "execution_count": null,
   "metadata": {},
   "outputs": [],
   "source": [
    "fig, ax = plt.subplots(nrows=1, ncols=2, figsize=(16,6))\n",
    "ax1 = ax.flatten()\n",
    "plt.suptitle('Med Sea zonally-averaged salinity bias [psu]')\n",
    "yzplot(np.ma.masked_invalid(mom_salt_med.transpose()), ds_mom_t.yh.values, z_mom, ylabel='Latitude', yunits='$^o$N', title=str(labels[0]+' - obs'), \n",
    "       axis=ax1[0], nbins=30, colormap=plt.cm.bwr, clim=(-0.1, 0.1), centerlabels=True, splitscale=[0, -500,-3000])\n",
    "ax1[0].invert_yaxis(); ax1[0].set_xlim(30,48)\n",
    "yzplot(np.ma.masked_invalid(pop_salt_med), grid.TLAT.mean('nlon'), z_pop, ylabel='Latitude', yunits='$^o$N', title='POP - obs', axis=ax1[1], \n",
    "       nbins=30, colormap=plt.cm.bwr, clim=(-0.1, 0.1), centerlabels=True, splitscale=[0, -500,-3000])\n",
    "ax1[1].invert_yaxis(); ax1[1].set_xlim(30,48)"
   ]
  },
  {
   "cell_type": "markdown",
   "metadata": {},
   "source": [
    "### Arctic Ocean"
   ]
  },
  {
   "cell_type": "code",
   "execution_count": null,
   "metadata": {},
   "outputs": [],
   "source": [
    "# POP\n",
    "# combine masks #9 and #10\n",
    "tmp = np.zeros(grid.REGION_MASK.shape)\n",
    "tmp[grid.REGION_MASK.values == 9] = 1.0\n",
    "tmp[grid.REGION_MASK.values == 10] = 1.0\n",
    "mask_pop_arc = xr.DataArray(tmp, dims=('yh','xh'), \n",
    "                             coords={'yh': ds_pop_t.yh, 'xh':ds_pop_t.xh})\n",
    "\n",
    "pop_temp_arc = ((pop_temp_bias * area_pop * mask_pop_arc).sum('xh')/area_pop.sum('xh'))\n",
    "pop_salt_arc = ((pop_salt_bias * area_pop * mask_pop_arc).sum('xh')/area_pop.sum('xh'))\n",
    "\n",
    "# MOM\n",
    "mom_temp_arc = ((basin_code.sel(region='Arctic')*mom_temp_bias * area_mom).sum('xh')/area_mom.sum('xh'))\n",
    "mom_salt_arc = ((basin_code.sel(region='Arctic')*mom_salt_bias * area_mom).sum('xh')/area_mom.sum('xh'))"
   ]
  },
  {
   "cell_type": "code",
   "execution_count": null,
   "metadata": {},
   "outputs": [],
   "source": [
    "fig, ax = plt.subplots(nrows=1, ncols=2, figsize=(16,6))\n",
    "ax1 = ax.flatten()\n",
    "plt.suptitle('Arctic zonally-averaged temperature bias [C]')\n",
    "yzplot(np.ma.masked_invalid(mom_temp_arc.transpose()), ds_mom_t.yh.values, z_mom, ylabel='Latitude', yunits='$^o$E', title=str(labels[0]+' - obs'), \n",
    "       axis=ax1[0], nbins=30, colormap=plt.cm.bwr, clim=(-0.75, 0.75), centerlabels=True, splitscale=[0, -1000,-6000])\n",
    "ax1[0].invert_yaxis(); ax1[0].set_xlim(60,90)\n",
    "yzplot(np.ma.masked_invalid(pop_temp_arc), grid.TLAT.mean('nlon'), z_pop, ylabel='Latitude', yunits='$^o$E', title='POP - obs', axis=ax1[1], \n",
    "       nbins=30, colormap=plt.cm.bwr, clim=(-0.75,0.75), centerlabels=True, splitscale=[0, -1000,-6000]) \n",
    "ax1[1].invert_yaxis(); ax1[1].set_xlim(60,90)"
   ]
  },
  {
   "cell_type": "code",
   "execution_count": null,
   "metadata": {},
   "outputs": [],
   "source": [
    "fig, ax = plt.subplots(nrows=1, ncols=2, figsize=(16,6))\n",
    "ax1 = ax.flatten()\n",
    "plt.suptitle('Arctic zonally-averaged salinity bias [psu]')\n",
    "yzplot(np.ma.masked_invalid(mom_salt_arc.transpose()), ds_mom_t.yh.values, z_mom, ylabel='Latitude', yunits='$^o$N', title=str(labels[0]+' - obs'), \n",
    "       axis=ax1[0], nbins=30, colormap=plt.cm.bwr, clim=(-1, 1), centerlabels=True, splitscale=[0, -500,-3000])\n",
    "ax1[0].invert_yaxis(); ax1[0].set_xlim(60,90)\n",
    "yzplot(np.ma.masked_invalid(pop_salt_arc), grid.TLAT.mean('nlon'), z_pop, ylabel='Latitude', yunits='$^o$N', title='POP - obs', axis=ax1[1], \n",
    "       nbins=30, colormap=plt.cm.bwr, clim=(-1, 1), centerlabels=True, splitscale=[0, -500,-3000])\n",
    "ax1[1].invert_yaxis(); ax1[1].set_xlim(60,90)"
   ]
  },
  {
   "cell_type": "markdown",
   "metadata": {
    "toc-hr-collapsed": true
   },
   "source": [
    "# Equatorial plots"
   ]
  },
  {
   "cell_type": "markdown",
   "metadata": {},
   "source": [
    "### Temperature and Salinity"
   ]
  },
  {
   "cell_type": "markdown",
   "metadata": {},
   "source": [
    "<center> <font size=\"4\">Equatorial_Global_temperature</font></center>\n",
    "<table><tr>\n",
    "    <td><img  src='../figures/g.c2b6.GJRA.TL319_t061.long_JRA_mct.064_Equatorial_Global_temperature.png'></td>\n",
    "    <td>\n",
    "    <img  src='../figures/g.c2b6.GJRA.TL319_t061.long_JRA_mct.064_Equatorial_Global_salinity.png'></td>\n",
    "    </tr>          \n",
    "</table>"
   ]
  },
  {
   "cell_type": "markdown",
   "metadata": {},
   "source": [
    "## Undercurrent"
   ]
  },
  {
   "cell_type": "markdown",
   "metadata": {},
   "source": [
    "<center> <font size=\"4\">Equatorial_Pacific_uo</font></center>\n",
    "<table><tr><td><img  src='../figures/g.c2b6.GJRA.TL319_t061.long_JRA_mct.064_Equatorial_Pacific_uo.png'></td></tr>\n",
    "</table>"
   ]
  },
  {
   "cell_type": "markdown",
   "metadata": {
    "toc-hr-collapsed": true
   },
   "source": [
    "# Horizontal Mean bias (w.r.t. obs) versus time"
   ]
  },
  {
   "cell_type": "code",
   "execution_count": null,
   "metadata": {},
   "outputs": [],
   "source": [
    "i=0\n",
    "ds_mom = xr.open_dataset('../../'+exps[i]+'/ncfiles/'+exps[i]+'_temp_bias.nc')\n",
    "ds_mom.region"
   ]
  },
  {
   "cell_type": "code",
   "execution_count": null,
   "metadata": {},
   "outputs": [],
   "source": [
    "%matplotlib inline\n",
    "reg_mom = ['Global','SouthernOcean','PacificOcean','IndianOcean','AtlanticOcean','MedSea','Arctic','LabSea']\n",
    "reg_pop = [0,1,2,3,6,7,10,8]\n",
    "\n",
    "ds_mom = xr.open_dataset('../../'+exps[0]+'/ncfiles/'+exps[0]+'_temp_bias.nc').sel(time=slice('0001-01-01', '0059-01-01'))\n",
    "ds_pop = xr.open_dataset('/glade/scratch/gmarques/g210.GIAF_JRA.v13.gx1v7.01_temp_bias.nc').sel(time=slice('0001-01-01', '0059-01-01'))\n",
    "    \n",
    "for m,p in zip(reg_mom,reg_pop):\n",
    "  fig, ax = plt.subplots(nrows=1, ncols=2, figsize=(16,6), sharex=True)\n",
    "  plt.suptitle(str(m)+', Potential Temperature bias [C], (model - obs)', fontsize=14)\n",
    "  splitscale =  [0., -500., -4000]\n",
    "  dummy_mom = np.ma.masked_invalid(ds_mom.sel(region=m).__xarray_dataarray_variable__.values)\n",
    "  dummy_pop = np.ma.masked_invalid(ds_pop.__xarray_dataarray_variable__.sel(region=str(p)).values)\n",
    "\n",
    "  dummy_pop = np.ma.masked_invalid(ds_pop.sel(region=str(p)).__xarray_dataarray_variable__.values)\n",
    "\n",
    "  ztplot(dummy_mom, ds_mom.time.values, ds_mom.z_l.values*-1, ignore=np.nan, splitscale=splitscale, contour=True, axis=ax.flat[0] ,\n",
    "           title=labels[0], extend='both', colormap='dunnePM', autocenter=True, tunits='Year', show=False, clim=(-2, 2)) \n",
    "  ztplot(dummy_pop, ds_pop.time.values, -ds_pop.z_l.values/100., ignore=np.nan, splitscale=splitscale, contour=True, axis=ax.flat[1] ,\n",
    "           title='POP', extend='both', colormap='dunnePM', autocenter=True, tunits='Year', show=False, clim=(-2, 2))  "
   ]
  },
  {
   "cell_type": "code",
   "execution_count": null,
   "metadata": {},
   "outputs": [],
   "source": [
    "%matplotlib inline\n",
    "\n",
    "ds_mom = xr.open_dataset('../../'+exps[0]+'/ncfiles/'+exps[0]+'_salt_bias.nc').sel(time=slice('0001-01-01', '0059-01-01'))\n",
    "ds_pop = xr.open_dataset('/glade/scratch/gmarques/g210.GIAF_JRA.v13.gx1v7.01_salt_bias.nc').sel(time=slice('0001-01-01', '0059-01-01'))\n",
    "        \n",
    "for m,p in zip(reg_mom,reg_pop):\n",
    "  fig, ax = plt.subplots(nrows=1, ncols=2, figsize=(16,6), sharex=True)\n",
    "  plt.suptitle(str(m)+', Salinity bias [psu], (model - obs)', fontsize=14)\n",
    "  splitscale =  [0., -500., -4000]\n",
    "  dummy_mom = np.ma.masked_invalid(ds_mom.sel(region=m).__xarray_dataarray_variable__.values)\n",
    "  dummy_pop = np.ma.masked_invalid(ds_pop.__xarray_dataarray_variable__.sel(region=str(p)).values)\n",
    "\n",
    "  dummy_pop = np.ma.masked_invalid(ds_pop.sel(region=str(p)).__xarray_dataarray_variable__.values)\n",
    "\n",
    "  ztplot(dummy_mom, ds_mom.time.values, ds_mom.z_l.values*-1, ignore=np.nan, splitscale=splitscale, contour=True, axis=ax.flat[0] ,\n",
    "           title=labels[0], extend='both', colormap='dunnePM', autocenter=True, tunits='Year', show=False, clim=(-1, 1)) \n",
    "  ztplot(dummy_pop, ds_pop.time.values, -ds_pop.z_l.values/100., ignore=np.nan, splitscale=splitscale, contour=True, axis=ax.flat[1] ,\n",
    "           title='POP', extend='both', colormap='dunnePM', autocenter=True, tunits='Year', show=False, clim=(-1, 1))  "
   ]
  },
  {
   "cell_type": "markdown",
   "metadata": {
    "toc-hr-collapsed": true
   },
   "source": [
    "# Mixing coefficients"
   ]
  },
  {
   "cell_type": "code",
   "execution_count": null,
   "metadata": {},
   "outputs": [],
   "source": [
    "def get_data_sf(full_path):\n",
    "  ds = xr.open_dataset(full_path)\n",
    "  return ds\n",
    "variables = ['diftrblo', 'difmxylo' ,'difmxybo', 'diftrelo']"
   ]
  },
  {
   "cell_type": "markdown",
   "metadata": {},
   "source": [
    "## GM (KHTH)"
   ]
  },
  {
   "cell_type": "code",
   "execution_count": null,
   "metadata": {},
   "outputs": [],
   "source": [
    "# GM coefficient\n",
    "# find point in the Drake Passage\n",
    "j = np.abs( grd.geolat[:,0] - -58.0 ).argmin()\n",
    "i = np.abs( grd.geolon[0,:] - -58.0 ).argmin()\n",
    "for exp in range(len(exps)):\n",
    "  ds = get_data_sf(path+exps[exp]+'/run/'+exps[exp]+'.mom6.hm_0058_12.nc')\n",
    "  xyplot(np.ma.masked_invalid(ds[variables[0]][0,0,:].values), grd.geolon, grd.geolat, area=grd.area_t, \n",
    "         clim=(0,1500), title=str(exps[exp]))\n",
    "  f, ax = plt.subplots(1,1)\n",
    "  ds[variables[0]][0,:,j,i].plot(ax=ax)\n"
   ]
  },
  {
   "cell_type": "markdown",
   "metadata": {},
   "source": [
    "## Laplacian viscosity"
   ]
  },
  {
   "cell_type": "code",
   "execution_count": null,
   "metadata": {},
   "outputs": [],
   "source": [
    "# Laplacian visc\n",
    "# find point in the Drake Passage\n",
    "j = np.abs( grd.geolat[:,0] - -58.0 ).argmin()\n",
    "i = np.abs( grd.geolon[0,:] - -58.0 ).argmin()\n",
    "for exp in range(len(exps)):\n",
    "  ds = get_data_sf(path+exps[exp]+'/run/'+exps[exp]+'.mom6.hm_0058_12.nc')\n",
    "  xyplot(np.ma.masked_invalid(ds[variables[1]][0,0,:].values), grd.geolon, grd.geolat, area=grd.area_t, clim=(0,1500), title=str(exps[exp]))\n",
    "  f, ax = plt.subplots(1,1)\n",
    "  ds[variables[1]][0,:,j,i].plot(ax=ax)"
   ]
  },
  {
   "cell_type": "markdown",
   "metadata": {},
   "source": [
    "## Biharmonic viscosity"
   ]
  },
  {
   "cell_type": "code",
   "execution_count": null,
   "metadata": {},
   "outputs": [],
   "source": [
    "# Biharmonic\n",
    "# find point in the Drake Passage\n",
    "j = np.abs( grd.geolat[:,0] - -58.0 ).argmin()\n",
    "i = np.abs( grd.geolon[0,:] - -58.0 ).argmin()\n",
    "for exp in range(len(exps)):\n",
    "  ds = get_data_sf(path+exps[exp]+'/run/'+exps[exp]+'.mom6.hm_0058_12.nc')\n",
    "  xyplot(np.ma.masked_invalid(ds[variables[2]][0,0,:].values), grd.geolon, grd.geolat, area=grd.area_t, clim=(1.0e10,1.0e14), title=str(exps[exp]))\n",
    "  f, ax = plt.subplots(1,1)\n",
    "  ds[variables[2]][0,:,j,i].plot(ax=ax)"
   ]
  },
  {
   "cell_type": "markdown",
   "metadata": {},
   "source": [
    "## Redi (KHTR)"
   ]
  },
  {
   "cell_type": "code",
   "execution_count": null,
   "metadata": {},
   "outputs": [],
   "source": [
    "# KHTR (Redi)\n",
    "# find point in the Drake Passage\n",
    "j = np.abs( grd.geolat[:,0] - -58.0 ).argmin()\n",
    "i = np.abs( grd.geolon[0,:] - -58.0 ).argmin()\n",
    "for exp in range(len(exps)):\n",
    "  ds = get_data_sf(path+exps[exp]+'/run/'+exps[exp]+'.mom6.hm_0058_12.nc')\n",
    "  xyplot(np.ma.masked_invalid(ds[variables[3]][0,:].values), grd.geolon, grd.geolat, clim=(0, 1500), area=grd.area_t, title=str(exps[exp]))"
   ]
  }
 ],
 "metadata": {
  "kernelspec": {
   "display_name": "analysis",
   "language": "python",
   "name": "analysis"
  },
  "language_info": {
   "codemirror_mode": {
    "name": "ipython",
    "version": 3
   },
   "file_extension": ".py",
   "mimetype": "text/x-python",
   "name": "python",
   "nbconvert_exporter": "python",
   "pygments_lexer": "ipython3",
   "version": "3.7.3"
  }
 },
 "nbformat": 4,
 "nbformat_minor": 4
}
