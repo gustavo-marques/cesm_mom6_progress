{
 "cells": [
  {
   "cell_type": "markdown",
   "id": "756e0024-54c4-4a14-b314-857cc5f599a2",
   "metadata": {},
   "source": [
    "### Timings for CESM/MOM6 configurations"
   ]
  },
  {
   "cell_type": "markdown",
   "id": "4414f155-af21-47ad-b3cd-d3945432dfde",
   "metadata": {},
   "source": [
    "#### High-res (1/10 deg)\n",
    "\n",
    "* NX = 3600; NY = 2400 NZ = 62\n",
    "\n",
    "* cost is 125283.78 pe-hrs/SMY\n",
    "\n",
    "* throughput is 0.6 model years/day"
   ]
  },
  {
   "cell_type": "code",
   "execution_count": 8,
   "id": "ef768c5e-5f1f-416e-8a93-abd6683f78ae",
   "metadata": {},
   "outputs": [],
   "source": [
    "NX = 3600; NY = 2400; NZ = 62\n",
    "grd_pts_high_res = NX*NY*NZ\n",
    "throughput_high_res = 0.6 \n",
    "cost_high_res = 125283.78"
   ]
  },
  {
   "cell_type": "markdown",
   "id": "4fc7fae6-2869-40f4-9b7d-02d1f4eb79b9",
   "metadata": {},
   "source": [
    "#### Workhorse\n",
    "\n",
    "* NX = 540; NY = 458 NZ = 65\n",
    "\n",
    "* cost is 1452.85 pe-hrs/SMY\n",
    "\n",
    "* throughput is 16.06 model years/day"
   ]
  },
  {
   "cell_type": "code",
   "execution_count": 9,
   "id": "6ae22054-bfb7-4894-a24d-0948120df244",
   "metadata": {},
   "outputs": [],
   "source": [
    "NX = 540; NY = 458; NZ = 65\n",
    "grd_pts_workhorse = NX*NY*NZ\n",
    "throughput_workhorse = 16.06 \n",
    "cost_workhorse = 1452.85"
   ]
  },
  {
   "cell_type": "markdown",
   "id": "7e1955fe-7b12-4a74-ba8e-e86dd247a407",
   "metadata": {},
   "source": [
    "#### Carib (0.25 deg)\n",
    "    \n",
    "NX and NY are from supergrid \n",
    "\n",
    "* NX = 252; NY = 152 NZ = 65\n"
   ]
  },
  {
   "cell_type": "code",
   "execution_count": 18,
   "id": "22d4a6b0-ad9c-45df-96ec-af1b316262fc",
   "metadata": {},
   "outputs": [
    {
     "name": "stdout",
     "output_type": "stream",
     "text": [
      "Total # of grid points: 2489760\n",
      "Cost (pe-hrs/SMY) based on high-res estimate: 582.300149516129\n",
      "Cost (pe-hrs/SMY) based on workhorse estimate: 225.0119941775837\n",
      "Cost (pe-hrs/SMY) based on mean estimate (high+work): 403.6560718468563\n"
     ]
    }
   ],
   "source": [
    "NX = 252; NY = 152; NZ = 65\n",
    "grd_pts_carib_025 = NX*NY*NZ\n",
    "print('Total # of grid points:',grd_pts_carib_025)\n",
    "# 1) estimate using high-res\n",
    "e1 = grd_pts_carib_025 * cost_high_res / grd_pts_high_res\n",
    "print('Cost (pe-hrs/SMY) based on high-res estimate:',e1)\n",
    "# 2) estimate using workhorse\n",
    "e2 = grd_pts_carib_025 * cost_workhorse / grd_pts_workhorse\n",
    "print('Cost (pe-hrs/SMY) based on workhorse estimate:',e2)\n",
    "print('Cost (pe-hrs/SMY) based on mean estimate (high+work):',(e2+e1)/2.)"
   ]
  },
  {
   "cell_type": "markdown",
   "id": "9ba6d1dd-af23-47c9-84d3-c69f6a366336",
   "metadata": {},
   "source": [
    "#### Carib (0.125 deg)\n",
    "    \n",
    "* NX = 504; NY = 304 NZ = 65"
   ]
  },
  {
   "cell_type": "code",
   "execution_count": 19,
   "id": "cc0c7cd8-b6fb-4e82-80d3-9781daf35230",
   "metadata": {},
   "outputs": [
    {
     "name": "stdout",
     "output_type": "stream",
     "text": [
      "Total # of grid points: 9959040\n",
      "Cost (pe-hrs/SMY) based on high-res estimate: 2329.200598064516\n",
      "Cost (pe-hrs/SMY) based on workhorse estimate: 900.0479767103348\n",
      "Cost (pe-hrs/SMY) based on mean estimate (high+work): 1614.6242873874253\n"
     ]
    }
   ],
   "source": [
    "NX = 504 ; NY = 304 ; NZ = 65\n",
    "grd_pts_carib_025 = NX*NY*NZ\n",
    "print('Total # of grid points:',grd_pts_carib_025)\n",
    "# 1) estimate using high-res\n",
    "e1 = grd_pts_carib_025 * cost_high_res / grd_pts_high_res\n",
    "print('Cost (pe-hrs/SMY) based on high-res estimate:',e1)\n",
    "# 2) estimate using workhorse\n",
    "e2 = grd_pts_carib_025 * cost_workhorse / grd_pts_workhorse\n",
    "print('Cost (pe-hrs/SMY) based on workhorse estimate:',e2)\n",
    "print('Cost (pe-hrs/SMY) based on mean estimate (high+work):',(e2+e1)/2.)"
   ]
  },
  {
   "cell_type": "code",
   "execution_count": null,
   "id": "95b3b477-fae0-45a0-901d-c6987aae876b",
   "metadata": {},
   "outputs": [],
   "source": []
  }
 ],
 "metadata": {
  "kernelspec": {
   "display_name": "Python [conda env:miniconda]",
   "language": "python",
   "name": "conda-env-miniconda-py"
  },
  "language_info": {
   "codemirror_mode": {
    "name": "ipython",
    "version": 3
   },
   "file_extension": ".py",
   "mimetype": "text/x-python",
   "name": "python",
   "nbconvert_exporter": "python",
   "pygments_lexer": "ipython3",
   "version": "3.9.7"
  }
 },
 "nbformat": 4,
 "nbformat_minor": 5
}
